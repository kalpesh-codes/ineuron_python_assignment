# Q1. Why do we call Python as a general purpose and high-level programming language?

Ans-
Python is called a general purpose language because, it supports and is designed to be used in a wide range of applications, including data science, software and web development, automation, etc.

It is called high-level language as it's easy for humans to understand.


Q2. Why is Python called a dynamically typed language?

Ans-

Python is called dynamically typed language because in python there is no need to define the data type of variable at the time of initialisation.

The datatype is assigned based on the values the variable contains.

Q3. List some pros and cons of Python programming language?

Pros-
- Beginner-friendly
- Python has Extensive Libraries
- It is highly scalable
- Python code is portable accross multiple type of systems
- Python has Large Community support

Cons-
- Python is slower than compiled languages like JAVA or Scala
- It has high memory consumption
- Python has Complex multithreading ie The multithreading model in Python does not have threads that run at the same time.    where, one thread can hold the GIL at one time
- In python, Garbage collection leads to potential memory losses
- Python is Dynamically-typed language thus can lead to schema error on read rather than write while writing data in Data      warehouse like hive or s3

Q4. In what all domains can we use Python?

Ans-
Python is used in a wide range of applications, including data science, software and web development, automation, etc.

Q5. What are variable and how can we declare them?

Ans -
Variable are a representtion for a memory location in the memory 
i.e. 
if we use a = 10
then a is a logical representation of memory location where the value 10 is stored 

In python there is no need to declare the variable in advance we can directly initialise them

Q6. How can we take an input from the user in Python?

Ans-

We can take input using input() function
 a = input("Enter Value for variable ")

Q7. What is the default datatype of the value that has been taken as an input using input() function?

Ans- String

Q8. What is type casting?

Ans- 
Type casting is a way of converting data from one data type to another data type. 

Q9. Can we take more than one input from the user using single input() function? If yes, how? If no, why?

Ans-

In Python user can take multiple values or inputs in one line by two methods.
- Using split() method
- Using List comprehension

- Using split() method

# taking three inputs at a time
total, passed, failed = input("Enter three values: ").split()

print("Total number of students: ", total)
print("Number of passed students is : ", passed)
print("Number of failed students is : ", failed)


- Using List comprehension
# taking three input at a time
x, y, z = [int(x) for x in input("Enter three values: ").split()]
print("First Number is: ", x)
print("Second Number is: ", y)
print("Third Number is: ", z)
print()

Q10. What are keywords?

Ans-

Keywords are predefined and specific reserved words, which hold special meaning. Ex; print, type, etc 

Q11. Can we use keywords as a variable? Support your answer with reason.

Ans-

We cannot use a keyword as a variable name, function name, or any other identifier. Because they are used to define the syntax and structure of the Python language.

Q12. What is indentation? What's the use of indentaion in Python?

Ans-

Indentation refers to the spaces at the beginning of a code line.
Python uses indentation to indicate a block of code instead of just for readability only.

Q13. How can we throw some output in Python?

Ans- using print() function in python 

Q14. What are operators in Python?

Ans- 
Operators are used to perform operations on variables and values.

Following are the types of operators-
Arithmetic operators
Assignment operators
Comparison operators
Logical operators
Identity operators
Membership operators
Bitwise operators

Q15. What is difference between / and // operators?

Ans - 

/ does the float division and // does the integer division 

Ex; 3/2 = 1.5
    3//2 = 1

Q16. Write a code that gives following as an output.
```
iNeuroniNeuroniNeuroniNeuron
```

name = "iNeuron"

print(name*4)

Q17. Write a code to take a number as an input from the user and check if the number is odd or even.

input_val = input("Enter a number: ")

if int(input_val) == 0:
    print(input_val, " is a Zero")
    
elif int(input_val) % 2 == 0:
    print(input_val, " is an even number")

elif int(input_val) % 2 == 1:
    print(input_val, " is an odd number")
    
else:
    print(input_val, " is an Invalid input")

Q18. What are boolean operator?

Ans- There are three Boolean operators in Python: and, or, and not.

Q19. What will the output of the following?
```
1 or 0

0 and 0

True and False and True

1 or 0 or 0
```

Ans-

1
0
False
1

print(1 or 0)

print(0 and 0)

print(True and False and True)

print(1 or 0 or 0)

Q20. What are conditional statements in Python?

Ans-

Conditional statements are the programming statements which alter the course of execution based on a condition.

These statements are used when certain statements are to be executed based on certain condition.


Q21. What is use of 'if', 'elif' and 'else' keywords?

Ans-

These keywords are used when certain statements are to be executed based on certain condition.

if is the starting condition, elif has the alternate conditions when the if condition fails. 
else statement doesn't require a condition it is executed when all the other conditions are failed.

Ex;

if int(input_val) == 0:
    print(input_val, " is a Zero")
    
elif int(input_val) % 2 == 0:
    print(input_val, " is an even number")

elif int(input_val) % 2 == 1:
    print(input_val, " is an odd number")
    
else:
    print(input_val, " is an Invalid input")

Q22. Write a code to take the age of person as an input and if age >= 18 display "I can vote". If age is < 18 display "I can't vote".

age = int(input("Input the age: "))
if age >= 18:
    print("I can vote") 
elif age < 18: 
    print("I can't vote")

Q23. Write a code that displays the sum of all the even numbers from the given list.
```
numbers = [12, 75, 150, 180, 145, 525, 50]
```

numbers = [12, 75, 150, 180, 145, 525, 50]
sum = 0

for num in numbers:
    if num % 2 == 0:
        sum = sum + num
print(sum)

Q24. Write a code to take 3 numbers as an input from the user and display the greatest no as output.

# taking three input at a time
x, y, z = [int(x) for x in input("Enter three values: ").split(" ")]

max = x

if y > max and z < y:
    max = y
    
if z > max and y < z:
    max = z

print("max number = ", max)

Q25. Write a program to display only those numbers from a list that satisfy the following conditions

- The number must be divisible by five

- If the number is greater than 150, then skip it and move to the next number

- If the number is greater than 500, then stop the loop
```
numbers = [12, 75, 150, 180, 145, 525, 50]
```

numbers = [12, 75, 150, 180, 145, 525, 50]

for num in numbers:
    if num % 5 == 0:
                
        if num > 500:
            print("loop break for", num)
            break
            
        if num > 150:
            print("skipped the number ", num, " and continuing the loop")
            continue
            
        print(num)

Q26. What is a string? How can we declare string in Python?

Ans-

A string is a sequence of characters.

Strings can be created by enclosing characters inside a single quote or double-quotes.
Ex;    
    my_string = "Hello"
    print(my_string)

    my_string = '''Hello'''
    print(my_string)

Q27. How can we access the string using its index?
Ans-

String is a list of charecters thus it can be accessed using index.

Ex;    
    my_string = "Hello"
    print(my_string[4])

    for c in my_string:
        print(c)


Q28. Write a code to get the desired output of the following
```
string = "Big Data iNeuron"
desired_output = "iNeuron"
```

my_string = "Big Data iNeuron"

desired_output = my_string.split(" ")[2]

print(desired_output)

Q29. Write a code to get the desired output of the following
```
string = "Big Data iNeuron"
desired_output = "norueNi"
```

my_string = "Big Data iNeuron"

desired_output = my_string.split(" ")[2]

print(desired_output[-1: :-1])

Q30. Resverse the string given in the above question.

my_string = "Big Data iNeuron"

print(my_string[-1: :-1])

Q31. How can you delete entire string at once?

Ans- 

whole string can be deleted using del statement

aString = "123"
del aString

print(aString)

Q32. What is escape sequence?

Ans-
Escape sequences allow you to include special characters in strings. 

A backslash (\) before the character or including everything in triple quotes() can be used to get this 

Ex;
s = 'Hey, what's up?'
print(s)

This gives an error saying "SyntaxError: invalid syntax" for the aphostrophe in "what's'

This can be avoided using ecape charecter;

s = 'Hey, what\'s up?'
print(s)


s= ''' Hey, what\'s up? '''

Q33. How can you print the below string?
```
'iNeuron's Big Data Course'
```

my_string = '''iNeuron's Big Data Course'''
print(my_string)

Q34. What is a list in Python?

Ans - 

List is a sequentiel datatype that can save heterogenous data i.e. elements with different datatypes.
All the elements are saved in contiguous memory locations.
List is represented by squared brackets []

my_list = [1, 2, 3, "my_val", True]
print(my_list)

Q35. How can you create a list in Python?

Ans-

List is created by adding the list values inside squared bracket representation.

my_list2 = [1, 2, 3, "my_val", True]
print(my_list2)

Q36. How can we access the elements in a list?

Ans-

List elements can be accessed using index starting with 0
my_list2 = [1, 2, 3, "my_val", True]
print(my_list2[3])

Q37. Write a code to access the word "iNeuron" from the given list.
```
lst = [1,2,3,"Hi",[45,54, "iNeuron"], "Big Data"]
``` 

lst = [1,2,3,"Hi",[45,54, "iNeuron"], "Big Data"]

print(lst[4][2])

Q38. Take a list as an input from the user and find the length of the list.

my_lst = [x for x in input("Enter List values: ").split()]

print(len(my_lst))

Q39. Add the word "Big" in the 3rd index of the given list.
```
lst = ["Welcome", "to", "Data", "course"]
```

lst = ["Welcome", "to", "Data", "course"]

lst[2] = "big " + lst[2]

print(lst)

Q40. What is a tuple? How is it different from list?

Ans-

Tuple is also a collection of values but unlike lists it contains values of same datatypes only.

Also, the tuples are immutatble menaing the values inside the tuple can not be changed.

Q41. How can you create a tuple in Python?

Ans- 
Tuple can be created using paranthesis ()

t1 = (1, 2, 3)

Q42. Create a tuple and try to add your name in the tuple. Are you able to do it? Support your answer with reason.

Ans-

This operations are not possible as the tuples are immutable.

t1 = (1, 2, 3)

t1.append("kalpesh")

Q43. Can two tuple be appended. If yes, write a code for it. If not, why?

Two tuples can not be appended as is as tuples are immutable
t1 = (1,2,3)
t2 = (4,5,6)

t1.append(t2)
t1.add(t2)

t3 = t1.insert(1, t2)


But if we convert them to l;ist first and then append then and convert them back to tuple, this can be an alternative way to cappend tuples

t1 = (1,2,3)
t2 = (4,5,6)

t3 = tuple(list(t1) + list(t2))

print(t3)
print(type(t3))


Q44. Take a tuple as an input and print the count of elements in it.

my_tuple = tuple(x for x in input("Enter List values: ").split())

print(len(my_tuple))
print(type(my_tuple))

Q45. What are sets in Python?

Ans-

Set is a collection of heterogenous values which are ordered and distinct, represented by curly braces {}

s1 = { 1, 2, 3, 4, 4, 5, 0, "XYZ", "xyz", "xyz"}

print(s1)

Q46. How can you create a set?

Ans-

A set can be created using {} representation, adding value to itseperated by commas

Q47. Create a set and add "iNeuron" in your set.

set_1 = { 1, 2, 3, 4, 4, 5, 0, "XYZ", "xyz", "xyz"}

set_1.add("iNeuron")

print(set_1)

Q48. Try to add multiple values using add() function.

set_1 = {2, 3, 4, 4, 5, "XYZ", "xyz", "xyz"}

multi_vals = ["iNeuron", 45, False, True]

set_1.update(multi_vals)

print(set_1)

Q49. How is update() different from add()?

Ans-

add adds an element, update "adds" another iterable set, list or tuple i.e. multiple elements

Q50. What is clear() in sets?

Ans-

The clear() method removes all items from the set.

Ex;
set_1.clear()

print(set_1)

Q51. What is frozen set?

Ans-

- A frozenset is an unordered and unindexed collection of unique elements. 
- It is immutable and it is hashable. It is also called an immutable set. 
- Since the elements are fixed, we can't add or remove elements from the set.

Ex;
fruits = {"Apple", "Banana", "Cherry", "Apple", "Kiwi"}
basket = frozenset(fruits)

Q52. How is frozen set different from set?

- A frozenset is immutable and it is hashable.
- Since the elements are fixed, we can't add or remove elements from the set.
- Frozensets are hashable, we can use the elements as a dictionary key or as an element from another set.

Ex;
fruits = {"Apple", "Banana", "Cherry", "Apple", "Kiwi"}
basket = frozenset(fruits)

print('Unique elements:', basket)

# Add new fruit throws an error!
basket.add("Orange")
print('After adding new element:', basket)

Output-

Unique elements: frozenset({'Banana', 'Apple', 'Kiwi', 'Cherry'})
---------------------------------------------------------------------------
AttributeError                            Traceback (most recent call last)
<ipython-input-97-be8b223b6c09> in <module>
      5 
      6 # Add new fruit throws an error!
----> 7 basket.add("Orange")
      8 print('After adding new element:', basket)

AttributeError: 'frozenset' object has no attribute 'add'


Q53. What is union() in sets? Explain via code.

Ans-

Union combines all the elements from both the sets. Repeating elements are only considered once.



numbers1 = {1, 4, 5}
numbers2 = {2, 3, 4, 5}

numbers3 = numbers1 | numbers2

print(numbers3)

Q54. What is intersection() in sets? Explain via code.

Ans -

Intersection only returns the common elements between both the sets

numbers1 = {1, 4, 5}
numbers2 = {2, 3, 4, 5}

numbers3 = numbers1 & numbers2

print(numbers3)

Q55. What is dictionary ibn Python?
Ans-

Dictionary is a map data structure consisting of key-value pairs, with unique set of keys.

ex;

my_dict = {
    "name" : "kalpesh",
    "age" : 25,
    "skills" : ["Python", "scala", "bigdata"]
}

my_dict = {
    "name" : "kalpesh",
    "age" : 25,
    "skills" : ["Python", "scala", "bigdata"]
}

print(type(my_dict))

Q56. How is dictionary different from all other data structures.

Ans- 

- A dictionary represents the relationship between pair of objects instead of just a set of objects like list, tuple, sets,    etc
- Elements may or may not be stored at a contagious memory location.
- Items are ordered, changeable, and do not allow duplicates
- The values in dictionary items can be of any data type
- To access a value the key is required 

Q57. How can we delare a dictionary in Python?

Ans-

A dictionary can be declared using a set of curly braces, {}
my_dict = {
    "name" : "kalpesh",
    "age" : 25,
    "skills" : ["Python", "scala", "bigdata"]
}

Another way could be using dict() function

my_dict = dict({
    "name" : "kalpesh",
    "age" : 25,
    "skills" : ["Python", "scala", "bigdata"]
})


Q58. What will the output of the following?
```
var = {}
print(type(var))
```

Ans- <class 'dict'>

Q59. How can we add an element in a dictionary?

Ans-

We can add an element to the dictionary by simply adding a value along with keys.

Following is an example of it.

my_dict = {
    "name" : "kalpesh",
    "age" : 25,
    "skills" : ["Python", "scala", "bigdata"]
}

# Adding a new element to dictionary
my_dict["education"] = "BE in CSE"

print(my_dict)

Q60. Create a dictionary and access all the values in that dictionary.

my_dict = {
    "name" : "kalpesh",
    "age" : 25,
    "skills" : ["Python", "scala", "bigdata"],
    "number" : 12334567890,
    "email" : "abc@mail.com"
}

for key in list(my_dict.keys()):
    print("Key: ", key, " value: ", my_dict[key])

Q61. Create a nested dictionary and access all the element in the inner dictionary.

dict2 = {
    "name" : "kalpesh",
    "age" : 25,
    "skills" : ["Python", "scala", "bigdata"],
    "number" : 12334567890,
    "email" : "abc@mail.com",
    "experience" : {
        "internship" : "infocepts",
        "YOE" : 4.5,
        "company" : "Tresvista"
    }
}


for key in list(dict2["experience"].keys()):
    print("Key: ", key, " value: ", dict2["experience"][key])

Q62. What is the use of get() function?

Ans-

The get() method returns the value of the item with the specified key.

dict2 = {
    "name" : "kalpesh",
    "age" : 25,
    "skills" : ["Python", "scala", "bigdata"],
    "number" : 12334567890,
    "email" : "abc@mail.com",
    "experience" : {
        "internship" : "infocepts",
        "YOE" : 4.5,
        "company" : "Tresvista"
    }
}

print(dict2.get("name"))
print(dict2.get("number"))

Q63. What is the use of items() function?

Ans-

items() returns a list of all the keys and values pair in the dictionary

dict2 = {
    "name" : "kalpesh",
    "age" : 25,
    "skills" : ["Python", "scala", "bigdata"],
    "number" : 12334567890,
    "email" : "abc@mail.com",
    "experience" : {
        "internship" : "infocepts",
        "YOE" : 4.5,
        "company" : "Tresvista"
    }
}

for k, v in dict2.items():
    print("key: ", k, " value: ", v)
    
    


Q64. What is the use of pop() function?

Ans-

pop function removes the elements from data structures based on index or keys

Ex; In following code we removed value for "email" key from dict2 as well as value at index 4 of a list lst3

List& Dictionary-
for a list by default the last value in the list is removed if no index is specified, but for dictionary a key has to be specified

Set-
When pop operation is done on set, it can only remove last value of set, it does not take any index as arguments.

Tuple-
pop operation on tuple is not supported



# POP from dictionary

dict2 = {
    "name" : "kalpesh",
    "age" : 25,
    "skills" : ["Python", "scala", "bigdata"],
    "number" : 12334567890,
    "email" : "abc@mail.com",
}

dict2.pop("email")

for k, v in dict2.items():
    print("key: ", k, " value: ", v)
    
    
# pop from list 
lst3 = [1,2,3,4,5,6]
lst3.pop(4)

print(lst3)

# pop from set
set3 = {1,2,3,4,5,6,7}
set3.pop()

print(set3)

# pop from tuple 
t3 = (3,4,5,6,7,8,9)
t3.pop()

Q65. What is the use of popitems() function?

Ans-

Python dictionary popitem() method removes the last inserted key-value pair from the dictionary and returns it as a tuple.

d = {1: '001', 2: '010', 3: '011'}

poped_item = d.popitem()
print(poped_item)

Q66. What is the use of keys() function?

Ans-

keys() function returns the list of keys in a wrapped format.

Ex;
d = {1: '001', 2: '010', 3: '011'}
print(d.keys())

To get this list of keys in proper format, the result has to be typecasted to list
print(list(d.keys()))

d = {1: '001', 2: '010', 3: '011'}

print(d.keys())
print(list(d.keys()))

Q67. What is the use of values() function?

Ans- 

values() function returns the list of values in a wrapped format.

Ex;
d = {1: '001', 2: '010', 3: '011'}
print(d.values())

To get this list of values in proper format, the result has to be typecasted to list
print(list(d.values()))

d = {1: '001', 2: '010', 3: '011'}
print(d.values())

print(list(d.values()))

Q68. What are loops in Python?

Ans-

loops are the statements that allows us to execute certain statements multiple times based on certain conditions

Q69. How many type of loop are there in Python?

Ans-

There are 2 types of loops in python

While loop
- In python, a while loop is used to execute a block of statements repeatedly until a given condition is satisfied. 

For loop
- For loops are used for sequential traversal. For example: traversing a list or string or array etc.

Q70. What is the difference between for and while loops?

Ans- 

for loop is suitable when the number of iterations are fixed also counter variable get incremented automatically without any increment statement in the loop body.

while loop is suitable when only the exit condition is known also counter variable has to be incremented by an increment statement in the loop body.


Q71. What is the use of continue statement?

Ans-

Continue Statement skips the execution of the program block from after the continue statement and forces the control to start the next iteration.

Q72. What is the use of break statement?

Ans-

break is used to terminate the execution of the loop. 

Q73. What is the use of pass statement?

Ans-

The pass statement is a null statement and it does nothing. But the difference between pass and comment is that comment is ignored by the interpreter whereas pass is not ignored. 

Ex;

a = 10
b = 20
  
if(a<b):
  pass
else:
  print("b<a")

Q74. What is the use of range() function?

Ans-

Range returns a list of mentioned value

Ex;

range(1, 11, 2)
here, range returns all the values from 1 to 10 with a difference of 2

1 => the starting value which is included
11 => the endingt value which is excluded
2 => difference which is by default 1 and is an optional argument

for x in range(1, 11, 2):
    print(x)

Q75. How can you loop over a dictionary?

Ans-

We can loop over a dictionary using keys() and items() function

dict2 = {
    "name" : "kalpesh",
    "age" : 25,
    "skills" : ["Python", "scala", "bigdata"],
    "number" : 12334567890,
    "email" : "abc@mail.com",
    "experience" : {
        "internship" : "infocepts",
        "YOE" : 4.5,
        "company" : "Tresvista"
    }
}

# Using keys() function
print("Using keys() function")
for key in list(dict2.keys()):
    print("Key: ", key, " value: ", dict2[key])


# Using items() function
print("\nUsing items() function")
for k, v in dict2.items():
    print("key: ", k, " value: ", v)

# Coding problems

Q76. Write a Python program to find the factorial of a given number.

n = int(input("enter a number: "))

factorial = 1

for i in range(n, 0, -1):
    factorial = factorial * i

print("factorial of ", n, " is: ", factorial)

Q77. Write a Python program to calculate the simple interest. Formula to calculate simple interest is SI = (P*R*T)/100

# Get the input values

p = int(input("Enter the value for p :"))
r = int(input("Enter the value for r :"))
t = int(input("Enter the value for t :"))

si = (p*r*t)/100
print("simple interest = ", si)

Q78. Write a Python program to calculate the compound interest. Formula of compound interest is A = P(1+ R/100)^t.

p = int(input("Enter the value for p :"))
r = int(input("Enter the value for r :"))
t = int(input("Enter the value for t :"))

ci = p * ((1+ (r/100)) **t)

print("compound interest = ", ci)

Q79. Write a Python program to check if a number is prime or not.

n = int(input("enter a number "))

flag = 0

for i in range (2, n):
    if n % i == 0:
        flag = 1
        
if flag == 0:
    print(n, " is a prime number")
else:
    print(n, " is NOT a prime number")

Q80. Write a Python program to check Armstrong Number.

# Get the input number
n = int(input("enter a number "))
val = n

# get the individual digits from the list
digit_list = []

while n != 0:
    
    digit_list.append(n % 10)
    n = n // 10

print(digit_list)

# Get the sum of i ** len(digit_list)
sum = 0
for i in digit_list:
    sum += i**len(digit_list)

# checking the sum
if sum == val:
    print(val, " is a Armstrong number")
else:
    print(val, " is NOT a Armstrong number")

Q81. Write a Python program to find the n-th Fibonacci Number.

n = int(input("enter a number "))

fib_list = [0, 1]

for i in range(2, n):
    fib_list.append(fib_list[len(fib_list) - 1] + fib_list[len(fib_list) - 2])

print(fib_list)

Q82. Write a Python program to interchange the first and last element in a list.


my_list = [1, 2, 3, 4, 5, 6]

print("List before interchange : ", my_list)
my_list[0], my_list[-1] = my_list[-1], my_list[0]

print("List after interchange : ", my_list)

Q83. Write a Python program to swap two elements in a list.

my_list = list(map(int, input("Enter the list: ").split()))

x, y = input("Enter the indexes to be swapped starting with 0: ").split()

x, y = int(x), int(y)

print("List before interchange : ", my_list)
my_list[x], my_list[y] = my_list[y], my_list[x]

print("List after interchange : ", my_list)

Q84. Write a Python program to find N largest element from a list.

my_list = list(map(int, input("Enter the list: ").split()))

n = int(input("Enter the nth number: "))

sorted_list = list(set(my_list))

print(n, "th largest number is: ", sorted_list[-n])

Q85. Write a Python program to find cumulative sum of a list.

my_list = list(map(int, input("Enter the list: ").split()))

cum_sum = [my_list[0]]

for i in range(1, len(my_list)):
    
    cum_sum.append(cum_sum[i-1] + my_list[i])
    
print(my_list)
print("Cummulative Sum for the list", cum_sum)


Q86. Write a Python program to check if a string is palindrome or not.

input_string = input("Enter a string: ")
reverse_string = input_string[-1: : -1]

if input_string == reverse_string:
    print(input_string, "is a palindrome")
else:
    print(input_string, "is NOT a palindrome")

Q87. Write a Python program to remove i'th element from a string.

input_string = input("Enter a string: ")
i = int(input("enter the value for i: ")) - 1


#way1
rem_str = input_string[:i] + input_string[i+1 : ]
print(rem_str)

Q88. Write a Python program to check if a substring is present in a given string.

input_string = input("Enter a string: ")
sub_string = input("Enter a sub-string: ")

if sub_string in input_string:
    print(sub_string, " is present in ", input_string)
else:
    print(sub_string, " is NOT present in ", input_string)

Q89. Write a Python program to find words which are greater than given length k.

input_string = input("Enter a string: ").split()
k = int(input("enter the value for i: "))

counter = 0
for wrd in input_string:
    if len(wrd) > k:
        counter += 1

print(counter, " words are greater than length ", k)

Q90. Write a Python program to extract unquire dictionary values.

dict2 = {
    "name" : "kalpesh",
    "age" : 25,
    "temp_address" : "xyz,pqr",
    "permanent_address" : "xyz,pqr",
    "email" : "abc@mail.com",
}

unique_val = set(dict2.values())

print("Unique dictionary values are: ", unique_val)

Q91. Write a Python program to merge two dictionary.

dict2 = {
    "name" : "kalpesh",
    "age" : 25,
    "temp_address" : "xyz,pqr",
    "permanent_address" : "xyz,pqr",
    "email" : "abc@mail.com",
}

dict3 = {
    "name" : "kalpesh",
    "age" : 25,
    "skills" : ["Python", "scala", "bigdata"],
    "number" : 12334567890,
    "email" : "abc@mail.com",
    "experience" : {
        "internship" : "infocepts",
        "YOE" : 4.5,
        "company" : "Tresvista"
    }
}

res = {**dict2, **dict3}

print(res)

Q92. Write a Python program to convert a list of tuples into dictionary.
```
Input : [('Sachin', 10), ('MSD', 7), ('Kohli', 18), ('Rohit', 45)]
Output : {'Sachin': 10, 'MSD': 7, 'Kohli': 18, 'Rohit': 45}
```

input_list = [('Sachin', 10), ('MSD', 7), ('Kohli', 18), ('Rohit', 45)]
    
output_val = {}

for i in input_list:
       
    output_val[i[0]] = i[1]
    
print(output_val)

Q93. Write a Python program to create a list of tuples from given list having number and its cube in each tuple.
```
Input: list = [9, 5, 6]
Output: [(9, 729), (5, 125), (6, 216)]
```


input_val = [9, 5, 6]

output = list()

for i in input_val:
    output.append((i, i**3))
    
print(output)

Q94. Write a Python program to get all combinations of 2 tuples.
```
Input : test_tuple1 = (7, 2), test_tuple2 = (7, 8)
Output : [(7, 7), (7, 8), (2, 7), (2, 8), (7, 7), (7, 2), (8, 7), (8, 2)]
```

test_tuple1 = (7, 2)
test_tuple2 = (7, 8)

output = []
for i in range(0, len(test_tuple1)):
    for j in range(0, len(test_tuple2)):
        output.append((test_tuple1[i], test_tuple2[j]))

for i in range(0, len(test_tuple2)):
    for j in range(0, len(test_tuple1)):
        output.append((test_tuple2[i], test_tuple1[j]))
        
print(output)

Q95. Write a Python program to sort a list of tuples by second item.
```
Input : [('for', 24), ('Geeks', 8), ('Geeks', 30)] 
Output : [('Geeks', 8), ('for', 24), ('Geeks', 30)]
```

input_val = [('for', 24), ('Geeks', 8), ('Geeks', 30)] 

length = len(input_val)


for i in range(0, length):
     for j in range(0, length-i-j):
        if(input_val[j][1] > input_val[j+1][1]):
            input_val[j], input_val[j+1] = input_val[j+1], input_val[j]

print(input_val)


Q96. Write a python program to print below pattern.
```
* 
* * 
* * * 
* * * * 
* * * * * 
```

n = 5

for i in range (1, n+1):
    for j in range (1, i+1):
    
        print("*", end =" ")
    print("")

Q97. Write a python program to print below pattern.
```
    *
   **
  ***
 ****
*****

n = 6

for i in range (n, 0, -1):
    for j in range (1, i+1):
    
        print(" ", end ="")
    
    for k in range (i+1, n+1):
    
        print("*", end ="")
    print("")

Q98. Write a python program to print below pattern.
```
    * 
   * * 
  * * * 
 * * * * 
* * * * * 

n = 6

for i in range (n, 0, -1):
    for j in range (1, i+1):
    
        print(" ", end ="")
    
    for k in range (i+1, n+1):
    
        print("* ", end ="")
    print("")

Q99. Write a python program to print below pattern.
```
1 
1 2 
1 2 3 
1 2 3 4 
1 2 3 4 5
```

n = 5

for i in range (1, n+1):
    for j in range (1, i+1):
    
        print(j, end =" ")
    print("")

Q100. Write a python program to print below pattern.
```
A 
B B 
C C C 
D D D D 
E E E E E 
```

n = 5
letters = " ABCDEFGHIJKLMNOPQRSTUVWXYZ"

for i in range (0, n+1):
    for j in range (0, i):
    
        print(letters[i], end =" ")
    print("")

