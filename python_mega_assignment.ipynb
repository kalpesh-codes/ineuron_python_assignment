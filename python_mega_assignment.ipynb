{
 "cells": [
  {
   "cell_type": "raw",
   "metadata": {},
   "source": [
    "# Q1. Why do we call Python as a general purpose and high-level programming language?\n",
    "\n",
    "Ans-\n",
    "Python is called a general purpose language because, it supports and is designed to be used in a wide range of applications, including data science, software and web development, automation, etc.\n",
    "\n",
    "It is called high-level language as it's easy for humans to understand.\n"
   ]
  },
  {
   "cell_type": "raw",
   "metadata": {},
   "source": [
    "Q2. Why is Python called a dynamically typed language?\n",
    "\n",
    "Ans-\n",
    "\n",
    "Python is called dynamically typed language because in python there is no need to define the data type of variable at the time of initialisation.\n",
    "\n",
    "The datatype is assigned based on the values the variable contains."
   ]
  },
  {
   "cell_type": "raw",
   "metadata": {},
   "source": [
    "Q3. List some pros and cons of Python programming language?\n",
    "\n",
    "Pros-\n",
    "- Beginner-friendly\n",
    "- Python has Extensive Libraries\n",
    "- It is highly scalable\n",
    "- Python code is portable accross multiple type of systems\n",
    "- Python has Large Community support\n",
    "\n",
    "Cons-\n",
    "- Python is slower than compiled languages like JAVA or Scala\n",
    "- It has high memory consumption\n",
    "- Python has Complex multithreading ie The multithreading model in Python does not have threads that run at the same time.    where, one thread can hold the GIL at one time\n",
    "- In python, Garbage collection leads to potential memory losses\n",
    "- Python is Dynamically-typed language thus can lead to schema error on read rather than write while writing data in Data      warehouse like hive or s3"
   ]
  },
  {
   "cell_type": "raw",
   "metadata": {},
   "source": [
    "Q4. In what all domains can we use Python?\n",
    "\n",
    "Ans-\n",
    "Python is used in a wide range of applications, including data science, software and web development, automation, etc."
   ]
  },
  {
   "cell_type": "raw",
   "metadata": {},
   "source": [
    "Q5. What are variable and how can we declare them?\n",
    "\n",
    "Ans -\n",
    "Variable are a representtion for a memory location in the memory \n",
    "i.e. \n",
    "if we use a = 10\n",
    "then a is a logical representation of memory location where the value 10 is stored \n",
    "\n",
    "In python there is no need to declare the variable in advance we can directly initialise them"
   ]
  },
  {
   "cell_type": "raw",
   "metadata": {},
   "source": [
    "Q6. How can we take an input from the user in Python?\n",
    "\n",
    "Ans-\n",
    "\n",
    "We can take input using input() function\n",
    " a = input(\"Enter Value for variable \")"
   ]
  },
  {
   "cell_type": "raw",
   "metadata": {},
   "source": [
    "Q7. What is the default datatype of the value that has been taken as an input using input() function?\n",
    "\n",
    "Ans- String"
   ]
  },
  {
   "cell_type": "raw",
   "metadata": {},
   "source": [
    "Q8. What is type casting?\n",
    "\n",
    "Ans- \n",
    "Type casting is a way of converting data from one data type to another data type. "
   ]
  },
  {
   "cell_type": "raw",
   "metadata": {},
   "source": [
    "Q9. Can we take more than one input from the user using single input() function? If yes, how? If no, why?\n",
    "\n",
    "Ans-\n",
    "\n",
    "In Python user can take multiple values or inputs in one line by two methods.\n",
    "- Using split() method\n",
    "- Using List comprehension\n",
    "\n",
    "- Using split() method\n",
    "\n",
    "# taking three inputs at a time\n",
    "total, passed, failed = input(\"Enter three values: \").split()\n",
    "\n",
    "print(\"Total number of students: \", total)\n",
    "print(\"Number of passed students is : \", passed)\n",
    "print(\"Number of failed students is : \", failed)\n",
    "\n",
    "\n",
    "- Using List comprehension\n",
    "# taking three input at a time\n",
    "x, y, z = [int(x) for x in input(\"Enter three values: \").split()]\n",
    "print(\"First Number is: \", x)\n",
    "print(\"Second Number is: \", y)\n",
    "print(\"Third Number is: \", z)\n",
    "print()"
   ]
  },
  {
   "cell_type": "raw",
   "metadata": {},
   "source": [
    "Q10. What are keywords?\n",
    "\n",
    "Ans-\n",
    "\n",
    "Keywords are predefined and specific reserved words, which hold special meaning. Ex; print, type, etc "
   ]
  },
  {
   "cell_type": "raw",
   "metadata": {},
   "source": [
    "Q11. Can we use keywords as a variable? Support your answer with reason.\n",
    "\n",
    "Ans-\n",
    "\n",
    "We cannot use a keyword as a variable name, function name, or any other identifier. Because they are used to define the syntax and structure of the Python language."
   ]
  },
  {
   "cell_type": "raw",
   "metadata": {},
   "source": [
    "Q12. What is indentation? What's the use of indentaion in Python?\n",
    "\n",
    "Ans-\n",
    "\n",
    "Indentation refers to the spaces at the beginning of a code line.\n",
    "Python uses indentation to indicate a block of code instead of just for readability only."
   ]
  },
  {
   "cell_type": "raw",
   "metadata": {},
   "source": [
    "Q13. How can we throw some output in Python?\n",
    "\n",
    "Ans- using print() function in python "
   ]
  },
  {
   "cell_type": "raw",
   "metadata": {},
   "source": [
    "Q14. What are operators in Python?\n",
    "\n",
    "Ans- \n",
    "Operators are used to perform operations on variables and values.\n",
    "\n",
    "Following are the types of operators-\n",
    "Arithmetic operators\n",
    "Assignment operators\n",
    "Comparison operators\n",
    "Logical operators\n",
    "Identity operators\n",
    "Membership operators\n",
    "Bitwise operators"
   ]
  },
  {
   "cell_type": "raw",
   "metadata": {},
   "source": [
    "Q15. What is difference between / and // operators?\n",
    "\n",
    "Ans - \n",
    "\n",
    "/ does the float division and // does the integer division \n",
    "\n",
    "Ex; 3/2 = 1.5\n",
    "    3//2 = 1"
   ]
  },
  {
   "cell_type": "raw",
   "metadata": {},
   "source": [
    "Q16. Write a code that gives following as an output.\n",
    "```\n",
    "iNeuroniNeuroniNeuroniNeuron\n",
    "```"
   ]
  },
  {
   "cell_type": "code",
   "execution_count": 10,
   "metadata": {},
   "outputs": [
    {
     "name": "stdout",
     "output_type": "stream",
     "text": [
      "iNeuroniNeuroniNeuroniNeuron\n"
     ]
    }
   ],
   "source": [
    "name = \"iNeuron\"\n",
    "\n",
    "print(name*4)"
   ]
  },
  {
   "cell_type": "raw",
   "metadata": {},
   "source": [
    "Q17. Write a code to take a number as an input from the user and check if the number is odd or even."
   ]
  },
  {
   "cell_type": "code",
   "execution_count": 11,
   "metadata": {},
   "outputs": [
    {
     "name": "stdout",
     "output_type": "stream",
     "text": [
      "Enter a number: 1\n",
      "1  is an odd number\n"
     ]
    }
   ],
   "source": [
    "input_val = input(\"Enter a number: \")\n",
    "\n",
    "if int(input_val) == 0:\n",
    "    print(input_val, \" is a Zero\")\n",
    "    \n",
    "elif int(input_val) % 2 == 0:\n",
    "    print(input_val, \" is an even number\")\n",
    "\n",
    "elif int(input_val) % 2 == 1:\n",
    "    print(input_val, \" is an odd number\")\n",
    "    \n",
    "else:\n",
    "    print(input_val, \" is an Invalid input\")"
   ]
  },
  {
   "cell_type": "raw",
   "metadata": {},
   "source": [
    "Q18. What are boolean operator?\n",
    "\n",
    "Ans- There are three Boolean operators in Python: and, or, and not."
   ]
  },
  {
   "cell_type": "raw",
   "metadata": {},
   "source": [
    "Q19. What will the output of the following?\n",
    "```\n",
    "1 or 0\n",
    "\n",
    "0 and 0\n",
    "\n",
    "True and False and True\n",
    "\n",
    "1 or 0 or 0\n",
    "```\n",
    "\n",
    "Ans-\n",
    "\n",
    "1\n",
    "0\n",
    "False\n",
    "1"
   ]
  },
  {
   "cell_type": "code",
   "execution_count": 12,
   "metadata": {},
   "outputs": [
    {
     "name": "stdout",
     "output_type": "stream",
     "text": [
      "1\n",
      "0\n",
      "False\n",
      "1\n"
     ]
    }
   ],
   "source": [
    "print(1 or 0)\n",
    "\n",
    "print(0 and 0)\n",
    "\n",
    "print(True and False and True)\n",
    "\n",
    "print(1 or 0 or 0)"
   ]
  },
  {
   "cell_type": "raw",
   "metadata": {},
   "source": [
    "Q20. What are conditional statements in Python?\n",
    "\n",
    "Ans-\n",
    "\n",
    "Conditional statements are the programming statements which alter the course of execution based on a condition.\n",
    "\n",
    "These statements are used when certain statements are to be executed based on certain condition.\n"
   ]
  },
  {
   "cell_type": "raw",
   "metadata": {},
   "source": [
    "Q21. What is use of 'if', 'elif' and 'else' keywords?\n",
    "\n",
    "Ans-\n",
    "\n",
    "These keywords are used when certain statements are to be executed based on certain condition.\n",
    "\n",
    "if is the starting condition, elif has the alternate conditions when the if condition fails. \n",
    "else statement doesn't require a condition it is executed when all the other conditions are failed.\n",
    "\n",
    "Ex;\n",
    "\n",
    "if int(input_val) == 0:\n",
    "    print(input_val, \" is a Zero\")\n",
    "    \n",
    "elif int(input_val) % 2 == 0:\n",
    "    print(input_val, \" is an even number\")\n",
    "\n",
    "elif int(input_val) % 2 == 1:\n",
    "    print(input_val, \" is an odd number\")\n",
    "    \n",
    "else:\n",
    "    print(input_val, \" is an Invalid input\")"
   ]
  },
  {
   "cell_type": "raw",
   "metadata": {},
   "source": [
    "Q22. Write a code to take the age of person as an input and if age >= 18 display \"I can vote\". If age is < 18 display \"I can't vote\"."
   ]
  },
  {
   "cell_type": "code",
   "execution_count": 16,
   "metadata": {},
   "outputs": [
    {
     "name": "stdout",
     "output_type": "stream",
     "text": [
      "Input the age: 2\n",
      "I can't vote\n"
     ]
    }
   ],
   "source": [
    "age = int(input(\"Input the age: \"))\n",
    "if age >= 18:\n",
    "    print(\"I can vote\") \n",
    "elif age < 18: \n",
    "    print(\"I can't vote\")"
   ]
  },
  {
   "cell_type": "raw",
   "metadata": {},
   "source": [
    "Q23. Write a code that displays the sum of all the even numbers from the given list.\n",
    "```\n",
    "numbers = [12, 75, 150, 180, 145, 525, 50]\n",
    "```"
   ]
  },
  {
   "cell_type": "code",
   "execution_count": 17,
   "metadata": {},
   "outputs": [
    {
     "name": "stdout",
     "output_type": "stream",
     "text": [
      "392\n"
     ]
    }
   ],
   "source": [
    "numbers = [12, 75, 150, 180, 145, 525, 50]\n",
    "sum = 0\n",
    "\n",
    "for num in numbers:\n",
    "    if num % 2 == 0:\n",
    "        sum = sum + num\n",
    "print(sum)"
   ]
  },
  {
   "cell_type": "raw",
   "metadata": {},
   "source": [
    "Q24. Write a code to take 3 numbers as an input from the user and display the greatest no as output."
   ]
  },
  {
   "cell_type": "code",
   "execution_count": 25,
   "metadata": {},
   "outputs": [
    {
     "name": "stdout",
     "output_type": "stream",
     "text": [
      "Enter three values: 123 23 34\n",
      "max number =  123\n"
     ]
    }
   ],
   "source": [
    "# taking three input at a time\n",
    "x, y, z = [int(x) for x in input(\"Enter three values: \").split(\" \")]\n",
    "\n",
    "max = x\n",
    "\n",
    "if y > max and z < y:\n",
    "    max = y\n",
    "    \n",
    "if z > max and y < z:\n",
    "    max = z\n",
    "\n",
    "print(\"max number = \", max)"
   ]
  },
  {
   "cell_type": "raw",
   "metadata": {},
   "source": [
    "Q25. Write a program to display only those numbers from a list that satisfy the following conditions\n",
    "\n",
    "- The number must be divisible by five\n",
    "\n",
    "- If the number is greater than 150, then skip it and move to the next number\n",
    "\n",
    "- If the number is greater than 500, then stop the loop\n",
    "```\n",
    "numbers = [12, 75, 150, 180, 145, 525, 50]\n",
    "```"
   ]
  },
  {
   "cell_type": "code",
   "execution_count": 33,
   "metadata": {},
   "outputs": [
    {
     "name": "stdout",
     "output_type": "stream",
     "text": [
      "75\n",
      "150\n",
      "skipped the number  180  and continuing the loop\n",
      "145\n",
      "loop break for 525\n"
     ]
    }
   ],
   "source": [
    "numbers = [12, 75, 150, 180, 145, 525, 50]\n",
    "\n",
    "for num in numbers:\n",
    "    if num % 5 == 0:\n",
    "                \n",
    "        if num > 500:\n",
    "            print(\"loop break for\", num)\n",
    "            break\n",
    "            \n",
    "        if num > 150:\n",
    "            print(\"skipped the number \", num, \" and continuing the loop\")\n",
    "            continue\n",
    "            \n",
    "        print(num)"
   ]
  },
  {
   "cell_type": "raw",
   "metadata": {},
   "source": [
    "Q26. What is a string? How can we declare string in Python?\n",
    "\n",
    "Ans-\n",
    "\n",
    "A string is a sequence of characters.\n",
    "\n",
    "Strings can be created by enclosing characters inside a single quote or double-quotes.\n",
    "Ex;    \n",
    "    my_string = \"Hello\"\n",
    "    print(my_string)\n",
    "\n",
    "    my_string = '''Hello'''\n",
    "    print(my_string)"
   ]
  },
  {
   "cell_type": "raw",
   "metadata": {},
   "source": [
    "Q27. How can we access the string using its index?\n",
    "Ans-\n",
    "\n",
    "String is a list of charecters thus it can be accessed using index.\n",
    "\n",
    "Ex;    \n",
    "    my_string = \"Hello\"\n",
    "    print(my_string[4])\n",
    "\n",
    "    for c in my_string:\n",
    "        print(c)\n"
   ]
  },
  {
   "cell_type": "raw",
   "metadata": {},
   "source": [
    "Q28. Write a code to get the desired output of the following\n",
    "```\n",
    "string = \"Big Data iNeuron\"\n",
    "desired_output = \"iNeuron\"\n",
    "```"
   ]
  },
  {
   "cell_type": "code",
   "execution_count": 37,
   "metadata": {},
   "outputs": [
    {
     "name": "stdout",
     "output_type": "stream",
     "text": [
      "iNeuron\n"
     ]
    }
   ],
   "source": [
    "my_string = \"Big Data iNeuron\"\n",
    "\n",
    "desired_output = my_string.split(\" \")[2]\n",
    "\n",
    "print(desired_output)"
   ]
  },
  {
   "cell_type": "raw",
   "metadata": {},
   "source": [
    "Q29. Write a code to get the desired output of the following\n",
    "```\n",
    "string = \"Big Data iNeuron\"\n",
    "desired_output = \"norueNi\"\n",
    "```"
   ]
  },
  {
   "cell_type": "code",
   "execution_count": 39,
   "metadata": {},
   "outputs": [
    {
     "name": "stdout",
     "output_type": "stream",
     "text": [
      "norueNi\n"
     ]
    }
   ],
   "source": [
    "my_string = \"Big Data iNeuron\"\n",
    "\n",
    "desired_output = my_string.split(\" \")[2]\n",
    "\n",
    "print(desired_output[-1: :-1])"
   ]
  },
  {
   "cell_type": "raw",
   "metadata": {},
   "source": [
    "Q30. Resverse the string given in the above question."
   ]
  },
  {
   "cell_type": "code",
   "execution_count": 40,
   "metadata": {},
   "outputs": [
    {
     "name": "stdout",
     "output_type": "stream",
     "text": [
      "norueNi ataD giB\n"
     ]
    }
   ],
   "source": [
    "my_string = \"Big Data iNeuron\"\n",
    "\n",
    "print(my_string[-1: :-1])"
   ]
  },
  {
   "cell_type": "raw",
   "metadata": {},
   "source": [
    "Q31. How can you delete entire string at once?\n",
    "\n",
    "Ans- \n",
    "\n",
    "whole string can be deleted using del statement\n",
    "\n",
    "aString = \"123\"\n",
    "del aString\n",
    "\n",
    "print(aString)"
   ]
  },
  {
   "cell_type": "raw",
   "metadata": {},
   "source": [
    "Q32. What is escape sequence?\n",
    "\n",
    "Ans-\n",
    "Escape sequences allow you to include special characters in strings. \n",
    "\n",
    "A backslash (\\) before the character or including everything in triple quotes() can be used to get this \n",
    "\n",
    "Ex;\n",
    "s = 'Hey, what's up?'\n",
    "print(s)\n",
    "\n",
    "This gives an error saying \"SyntaxError: invalid syntax\" for the aphostrophe in \"what's'\n",
    "\n",
    "This can be avoided using ecape charecter;\n",
    "\n",
    "s = 'Hey, what\\'s up?'\n",
    "print(s)\n",
    "\n",
    "\n",
    "s= ''' Hey, what\\'s up? '''"
   ]
  },
  {
   "cell_type": "code",
   "execution_count": null,
   "metadata": {},
   "outputs": [],
   "source": [
    "Q33. How can you print the below string?\n",
    "```\n",
    "'iNeuron's Big Data Course'\n",
    "```"
   ]
  },
  {
   "cell_type": "code",
   "execution_count": 42,
   "metadata": {},
   "outputs": [
    {
     "name": "stdout",
     "output_type": "stream",
     "text": [
      "iNeuron's Big Data Course\n"
     ]
    }
   ],
   "source": [
    "my_string = '''iNeuron's Big Data Course'''\n",
    "print(my_string)"
   ]
  },
  {
   "cell_type": "raw",
   "metadata": {},
   "source": [
    "Q34. What is a list in Python?\n",
    "\n",
    "Ans - \n",
    "\n",
    "List is a sequentiel datatype that can save heterogenous data i.e. elements with different datatypes.\n",
    "All the elements are saved in contiguous memory locations.\n",
    "List is represented by squared brackets []\n",
    "\n",
    "my_list = [1, 2, 3, \"my_val\", True]\n",
    "print(my_list)"
   ]
  },
  {
   "cell_type": "raw",
   "metadata": {},
   "source": [
    "Q35. How can you create a list in Python?\n",
    "\n",
    "Ans-\n",
    "\n",
    "List is created by adding the list values inside squared bracket representation.\n",
    "\n",
    "my_list2 = [1, 2, 3, \"my_val\", True]\n",
    "print(my_list2)"
   ]
  },
  {
   "cell_type": "raw",
   "metadata": {},
   "source": [
    "Q36. How can we access the elements in a list?\n",
    "\n",
    "Ans-\n",
    "\n",
    "List elements can be accessed using index starting with 0\n",
    "my_list2 = [1, 2, 3, \"my_val\", True]\n",
    "print(my_list2[3])"
   ]
  },
  {
   "cell_type": "raw",
   "metadata": {},
   "source": [
    "Q37. Write a code to access the word \"iNeuron\" from the given list.\n",
    "```\n",
    "lst = [1,2,3,\"Hi\",[45,54, \"iNeuron\"], \"Big Data\"]\n",
    "``` "
   ]
  },
  {
   "cell_type": "code",
   "execution_count": 46,
   "metadata": {},
   "outputs": [
    {
     "name": "stdout",
     "output_type": "stream",
     "text": [
      "iNeuron\n"
     ]
    }
   ],
   "source": [
    "lst = [1,2,3,\"Hi\",[45,54, \"iNeuron\"], \"Big Data\"]\n",
    "\n",
    "print(lst[4][2])"
   ]
  },
  {
   "cell_type": "raw",
   "metadata": {},
   "source": [
    "Q38. Take a list as an input from the user and find the length of the list."
   ]
  },
  {
   "cell_type": "code",
   "execution_count": 60,
   "metadata": {},
   "outputs": [
    {
     "name": "stdout",
     "output_type": "stream",
     "text": [
      "Enter List values: 1 3 4 5 True gahahah\n",
      "6\n"
     ]
    }
   ],
   "source": [
    "my_lst = [x for x in input(\"Enter List values: \").split()]\n",
    "\n",
    "print(len(my_lst))"
   ]
  },
  {
   "cell_type": "raw",
   "metadata": {},
   "source": [
    "Q39. Add the word \"Big\" in the 3rd index of the given list.\n",
    "```\n",
    "lst = [\"Welcome\", \"to\", \"Data\", \"course\"]\n",
    "```"
   ]
  },
  {
   "cell_type": "code",
   "execution_count": 63,
   "metadata": {},
   "outputs": [
    {
     "name": "stdout",
     "output_type": "stream",
     "text": [
      "['Welcome', 'to', 'big Data', 'course']\n"
     ]
    }
   ],
   "source": [
    "lst = [\"Welcome\", \"to\", \"Data\", \"course\"]\n",
    "\n",
    "lst[2] = \"big \" + lst[2]\n",
    "\n",
    "print(lst)"
   ]
  },
  {
   "cell_type": "raw",
   "metadata": {},
   "source": [
    "Q40. What is a tuple? How is it different from list?\n",
    "\n",
    "Ans-\n",
    "\n",
    "Tuple is also a collection of values but unlike lists it contains values of same datatypes only.\n",
    "\n",
    "Also, the tuples are immutatble menaing the values inside the tuple can not be changed."
   ]
  },
  {
   "cell_type": "raw",
   "metadata": {},
   "source": [
    "Q41. How can you create a tuple in Python?\n",
    "\n",
    "Ans- \n",
    "Tuple can be created using paranthesis ()\n",
    "\n",
    "t1 = (1, 2, 3)"
   ]
  },
  {
   "cell_type": "raw",
   "metadata": {},
   "source": [
    "Q42. Create a tuple and try to add your name in the tuple. Are you able to do it? Support your answer with reason.\n",
    "\n",
    "Ans-\n",
    "\n",
    "This operations are not possible as the tuples are immutable.\n",
    "\n",
    "t1 = (1, 2, 3)\n",
    "\n",
    "t1.append(\"kalpesh\")"
   ]
  },
  {
   "cell_type": "raw",
   "metadata": {},
   "source": [
    "Q43. Can two tuple be appended. If yes, write a code for it. If not, why?\n",
    "\n",
    "Two tuples can not be appended as is as tuples are immutable\n",
    "t1 = (1,2,3)\n",
    "t2 = (4,5,6)\n",
    "\n",
    "t1.append(t2)\n",
    "t1.add(t2)\n",
    "\n",
    "t3 = t1.insert(1, t2)\n",
    "\n",
    "\n",
    "But if we convert them to l;ist first and then append then and convert them back to tuple, this can be an alternative way to cappend tuples"
   ]
  },
  {
   "cell_type": "code",
   "execution_count": 76,
   "metadata": {},
   "outputs": [
    {
     "name": "stdout",
     "output_type": "stream",
     "text": [
      "(1, 2, 3, 4, 5, 6)\n",
      "<class 'tuple'>\n"
     ]
    }
   ],
   "source": [
    "t1 = (1,2,3)\n",
    "t2 = (4,5,6)\n",
    "\n",
    "t3 = tuple(list(t1) + list(t2))\n",
    "\n",
    "print(t3)\n",
    "print(type(t3))\n"
   ]
  },
  {
   "cell_type": "raw",
   "metadata": {},
   "source": [
    "Q44. Take a tuple as an input and print the count of elements in it."
   ]
  },
  {
   "cell_type": "code",
   "execution_count": 80,
   "metadata": {},
   "outputs": [
    {
     "name": "stdout",
     "output_type": "stream",
     "text": [
      "Enter List values:  2 3 4 5 6 7 8 4\n",
      "8\n",
      "<class 'tuple'>\n"
     ]
    }
   ],
   "source": [
    "my_tuple = tuple(x for x in input(\"Enter List values: \").split())\n",
    "\n",
    "print(len(my_tuple))\n",
    "print(type(my_tuple))"
   ]
  },
  {
   "cell_type": "raw",
   "metadata": {},
   "source": [
    "Q45. What are sets in Python?\n",
    "\n",
    "Ans-\n",
    "\n",
    "Set is a collection of heterogenous values which are ordered and distinct, represented by curly braces {}"
   ]
  },
  {
   "cell_type": "code",
   "execution_count": 86,
   "metadata": {},
   "outputs": [
    {
     "name": "stdout",
     "output_type": "stream",
     "text": [
      "{0, 1, 2, 3, 4, 5, 'xyz', 'XYZ'}\n"
     ]
    }
   ],
   "source": [
    "s1 = { 1, 2, 3, 4, 4, 5, 0, \"XYZ\", \"xyz\", \"xyz\"}\n",
    "\n",
    "print(s1)"
   ]
  },
  {
   "cell_type": "raw",
   "metadata": {},
   "source": [
    "Q46. How can you create a set?\n",
    "\n",
    "Ans-\n",
    "\n",
    "A set can be created using {} representation, adding value to itseperated by commas"
   ]
  },
  {
   "cell_type": "raw",
   "metadata": {},
   "source": [
    "Q47. Create a set and add \"iNeuron\" in your set."
   ]
  },
  {
   "cell_type": "code",
   "execution_count": 88,
   "metadata": {},
   "outputs": [
    {
     "name": "stdout",
     "output_type": "stream",
     "text": [
      "{0, 1, 2, 3, 4, 5, 'iNeuron', 'xyz', 'XYZ'}\n"
     ]
    }
   ],
   "source": [
    "set_1 = { 1, 2, 3, 4, 4, 5, 0, \"XYZ\", \"xyz\", \"xyz\"}\n",
    "\n",
    "set_1.add(\"iNeuron\")\n",
    "\n",
    "print(set_1)"
   ]
  },
  {
   "cell_type": "raw",
   "metadata": {},
   "source": [
    "Q48. Try to add multiple values using add() function."
   ]
  },
  {
   "cell_type": "code",
   "execution_count": 93,
   "metadata": {},
   "outputs": [
    {
     "name": "stdout",
     "output_type": "stream",
     "text": [
      "{False, True, 2, 3, 4, 5, 'iNeuron', 'xyz', 'XYZ', 45}\n"
     ]
    }
   ],
   "source": [
    "set_1 = {2, 3, 4, 4, 5, \"XYZ\", \"xyz\", \"xyz\"}\n",
    "\n",
    "multi_vals = [\"iNeuron\", 45, False, True]\n",
    "\n",
    "set_1.update(multi_vals)\n",
    "\n",
    "print(set_1)"
   ]
  },
  {
   "cell_type": "raw",
   "metadata": {},
   "source": [
    "Q49. How is update() different from add()?\n",
    "\n",
    "Ans-\n",
    "\n",
    "add adds an element, update \"adds\" another iterable set, list or tuple i.e. multiple elements"
   ]
  },
  {
   "cell_type": "raw",
   "metadata": {},
   "source": [
    "Q50. What is clear() in sets?\n",
    "\n",
    "Ans-\n",
    "\n",
    "The clear() method removes all items from the set.\n",
    "\n",
    "Ex;\n",
    "set_1.clear()\n",
    "\n",
    "print(set_1)"
   ]
  },
  {
   "cell_type": "raw",
   "metadata": {},
   "source": [
    "Q51. What is frozen set?\n",
    "\n",
    "Ans-\n",
    "\n",
    "- A frozenset is an unordered and unindexed collection of unique elements. \n",
    "- It is immutable and it is hashable. It is also called an immutable set. \n",
    "- Since the elements are fixed, we can't add or remove elements from the set.\n",
    "\n",
    "Ex;\n",
    "fruits = {\"Apple\", \"Banana\", \"Cherry\", \"Apple\", \"Kiwi\"}\n",
    "basket = frozenset(fruits)"
   ]
  },
  {
   "cell_type": "raw",
   "metadata": {},
   "source": [
    "Q52. How is frozen set different from set?\n",
    "\n",
    "- A frozenset is immutable and it is hashable.\n",
    "- Since the elements are fixed, we can't add or remove elements from the set.\n",
    "- Frozensets are hashable, we can use the elements as a dictionary key or as an element from another set.\n",
    "\n",
    "Ex;\n",
    "fruits = {\"Apple\", \"Banana\", \"Cherry\", \"Apple\", \"Kiwi\"}\n",
    "basket = frozenset(fruits)\n",
    "\n",
    "print('Unique elements:', basket)\n",
    "\n",
    "# Add new fruit throws an error!\n",
    "basket.add(\"Orange\")\n",
    "print('After adding new element:', basket)\n",
    "\n",
    "Output-\n",
    "\n",
    "Unique elements: frozenset({'Banana', 'Apple', 'Kiwi', 'Cherry'})\n",
    "---------------------------------------------------------------------------\n",
    "AttributeError                            Traceback (most recent call last)\n",
    "<ipython-input-97-be8b223b6c09> in <module>\n",
    "      5 \n",
    "      6 # Add new fruit throws an error!\n",
    "----> 7 basket.add(\"Orange\")\n",
    "      8 print('After adding new element:', basket)\n",
    "\n",
    "AttributeError: 'frozenset' object has no attribute 'add'\n"
   ]
  },
  {
   "cell_type": "raw",
   "metadata": {},
   "source": [
    "Q53. What is union() in sets? Explain via code.\n",
    "\n",
    "Ans-\n",
    "\n",
    "Union combines all the elements from both the sets. Repeating elements are only considered once.\n",
    "\n"
   ]
  },
  {
   "cell_type": "code",
   "execution_count": 107,
   "metadata": {},
   "outputs": [
    {
     "name": "stdout",
     "output_type": "stream",
     "text": [
      "{1, 2, 3, 4, 5}\n"
     ]
    }
   ],
   "source": [
    "numbers1 = {1, 4, 5}\n",
    "numbers2 = {2, 3, 4, 5}\n",
    "\n",
    "numbers3 = numbers1 | numbers2\n",
    "\n",
    "print(numbers3)"
   ]
  },
  {
   "cell_type": "raw",
   "metadata": {},
   "source": [
    "Q54. What is intersection() in sets? Explain via code.\n",
    "\n",
    "Ans -\n",
    "\n",
    "Intersection only returns the common elements between both the sets"
   ]
  },
  {
   "cell_type": "code",
   "execution_count": 108,
   "metadata": {},
   "outputs": [
    {
     "name": "stdout",
     "output_type": "stream",
     "text": [
      "{4, 5}\n"
     ]
    }
   ],
   "source": [
    "numbers1 = {1, 4, 5}\n",
    "numbers2 = {2, 3, 4, 5}\n",
    "\n",
    "numbers3 = numbers1 & numbers2\n",
    "\n",
    "print(numbers3)"
   ]
  },
  {
   "cell_type": "raw",
   "metadata": {},
   "source": [
    "Q55. What is dictionary ibn Python?\n",
    "Ans-\n",
    "\n",
    "Dictionary is a map data structure consisting of key-value pairs, with unique set of keys.\n",
    "\n",
    "ex;\n",
    "\n",
    "my_dict = {\n",
    "    \"name\" : \"kalpesh\",\n",
    "    \"age\" : 25,\n",
    "    \"skills\" : [\"Python\", \"scala\", \"bigdata\"]\n",
    "}"
   ]
  },
  {
   "cell_type": "code",
   "execution_count": 115,
   "metadata": {},
   "outputs": [
    {
     "name": "stdout",
     "output_type": "stream",
     "text": [
      "<class 'dict'>\n"
     ]
    }
   ],
   "source": [
    "my_dict = {\n",
    "    \"name\" : \"kalpesh\",\n",
    "    \"age\" : 25,\n",
    "    \"skills\" : [\"Python\", \"scala\", \"bigdata\"]\n",
    "}\n",
    "\n",
    "print(type(my_dict))"
   ]
  },
  {
   "cell_type": "raw",
   "metadata": {},
   "source": [
    "Q56. How is dictionary different from all other data structures.\n",
    "\n",
    "Ans- \n",
    "\n",
    "- A dictionary represents the relationship between pair of objects instead of just a set of objects like list, tuple, sets,    etc\n",
    "- Elements may or may not be stored at a contagious memory location.\n",
    "- Items are ordered, changeable, and do not allow duplicates\n",
    "- The values in dictionary items can be of any data type\n",
    "- To access a value the key is required "
   ]
  },
  {
   "cell_type": "raw",
   "metadata": {},
   "source": [
    "Q57. How can we delare a dictionary in Python?\n",
    "\n",
    "Ans-\n",
    "\n",
    "A dictionary can be declared using a set of curly braces, {}\n",
    "my_dict = {\n",
    "    \"name\" : \"kalpesh\",\n",
    "    \"age\" : 25,\n",
    "    \"skills\" : [\"Python\", \"scala\", \"bigdata\"]\n",
    "}\n",
    "\n",
    "Another way could be using dict() function\n",
    "\n",
    "my_dict = dict({\n",
    "    \"name\" : \"kalpesh\",\n",
    "    \"age\" : 25,\n",
    "    \"skills\" : [\"Python\", \"scala\", \"bigdata\"]\n",
    "})\n"
   ]
  },
  {
   "cell_type": "raw",
   "metadata": {},
   "source": [
    "Q58. What will the output of the following?\n",
    "```\n",
    "var = {}\n",
    "print(type(var))\n",
    "```\n",
    "\n",
    "Ans- <class 'dict'>"
   ]
  },
  {
   "cell_type": "raw",
   "metadata": {},
   "source": [
    "Q59. How can we add an element in a dictionary?\n",
    "\n",
    "Ans-\n",
    "\n",
    "We can add an element to the dictionary by simply adding a value along with keys.\n",
    "\n",
    "Following is an example of it."
   ]
  },
  {
   "cell_type": "code",
   "execution_count": 117,
   "metadata": {},
   "outputs": [
    {
     "name": "stdout",
     "output_type": "stream",
     "text": [
      "{'name': 'kalpesh', 'age': 25, 'skills': ['Python', 'scala', 'bigdata'], 'education': 'BE in CSE'}\n"
     ]
    }
   ],
   "source": [
    "my_dict = {\n",
    "    \"name\" : \"kalpesh\",\n",
    "    \"age\" : 25,\n",
    "    \"skills\" : [\"Python\", \"scala\", \"bigdata\"]\n",
    "}\n",
    "\n",
    "# Adding a new element to dictionary\n",
    "my_dict[\"education\"] = \"BE in CSE\"\n",
    "\n",
    "print(my_dict)"
   ]
  },
  {
   "cell_type": "raw",
   "metadata": {},
   "source": [
    "Q60. Create a dictionary and access all the values in that dictionary."
   ]
  },
  {
   "cell_type": "code",
   "execution_count": 121,
   "metadata": {},
   "outputs": [
    {
     "name": "stdout",
     "output_type": "stream",
     "text": [
      "Key:  name  value:  kalpesh\n",
      "Key:  age  value:  25\n",
      "Key:  skills  value:  ['Python', 'scala', 'bigdata']\n",
      "Key:  number  value:  12334567890\n",
      "Key:  email  value:  abc@mail.com\n"
     ]
    }
   ],
   "source": [
    "my_dict = {\n",
    "    \"name\" : \"kalpesh\",\n",
    "    \"age\" : 25,\n",
    "    \"skills\" : [\"Python\", \"scala\", \"bigdata\"],\n",
    "    \"number\" : 12334567890,\n",
    "    \"email\" : \"abc@mail.com\"\n",
    "}\n",
    "\n",
    "for key in list(my_dict.keys()):\n",
    "    print(\"Key: \", key, \" value: \", my_dict[key])"
   ]
  },
  {
   "cell_type": "raw",
   "metadata": {},
   "source": [
    "Q61. Create a nested dictionary and access all the element in the inner dictionary."
   ]
  },
  {
   "cell_type": "code",
   "execution_count": 124,
   "metadata": {},
   "outputs": [
    {
     "name": "stdout",
     "output_type": "stream",
     "text": [
      "Key:  internship  value:  infocepts\n",
      "Key:  YOE  value:  4.5\n",
      "Key:  company  value:  Tresvista\n"
     ]
    }
   ],
   "source": [
    "dict2 = {\n",
    "    \"name\" : \"kalpesh\",\n",
    "    \"age\" : 25,\n",
    "    \"skills\" : [\"Python\", \"scala\", \"bigdata\"],\n",
    "    \"number\" : 12334567890,\n",
    "    \"email\" : \"abc@mail.com\",\n",
    "    \"experience\" : {\n",
    "        \"internship\" : \"infocepts\",\n",
    "        \"YOE\" : 4.5,\n",
    "        \"company\" : \"Tresvista\"\n",
    "    }\n",
    "}\n",
    "\n",
    "\n",
    "for key in list(dict2[\"experience\"].keys()):\n",
    "    print(\"Key: \", key, \" value: \", dict2[\"experience\"][key])"
   ]
  },
  {
   "cell_type": "raw",
   "metadata": {},
   "source": [
    "Q62. What is the use of get() function?\n",
    "\n",
    "Ans-\n",
    "\n",
    "The get() method returns the value of the item with the specified key."
   ]
  },
  {
   "cell_type": "code",
   "execution_count": 127,
   "metadata": {},
   "outputs": [
    {
     "name": "stdout",
     "output_type": "stream",
     "text": [
      "kalpesh\n",
      "12334567890\n"
     ]
    }
   ],
   "source": [
    "dict2 = {\n",
    "    \"name\" : \"kalpesh\",\n",
    "    \"age\" : 25,\n",
    "    \"skills\" : [\"Python\", \"scala\", \"bigdata\"],\n",
    "    \"number\" : 12334567890,\n",
    "    \"email\" : \"abc@mail.com\",\n",
    "    \"experience\" : {\n",
    "        \"internship\" : \"infocepts\",\n",
    "        \"YOE\" : 4.5,\n",
    "        \"company\" : \"Tresvista\"\n",
    "    }\n",
    "}\n",
    "\n",
    "print(dict2.get(\"name\"))\n",
    "print(dict2.get(\"number\"))"
   ]
  },
  {
   "cell_type": "raw",
   "metadata": {},
   "source": [
    "Q63. What is the use of items() function?\n",
    "\n",
    "Ans-\n",
    "\n",
    "items() returns a list of all the keys and values pair in the dictionary"
   ]
  },
  {
   "cell_type": "code",
   "execution_count": 133,
   "metadata": {},
   "outputs": [
    {
     "name": "stdout",
     "output_type": "stream",
     "text": [
      "key:  age  value:  25\n",
      "key:  skills  value:  ['Python', 'scala', 'bigdata']\n",
      "key:  number  value:  12334567890\n",
      "key:  email  value:  abc@mail.com\n",
      "key:  experience  value:  {'internship': 'infocepts', 'YOE': 4.5, 'company': 'Tresvista'}\n"
     ]
    }
   ],
   "source": [
    "dict2 = {\n",
    "    \"name\" : \"kalpesh\",\n",
    "    \"age\" : 25,\n",
    "    \"skills\" : [\"Python\", \"scala\", \"bigdata\"],\n",
    "    \"number\" : 12334567890,\n",
    "    \"email\" : \"abc@mail.com\",\n",
    "    \"experience\" : {\n",
    "        \"internship\" : \"infocepts\",\n",
    "        \"YOE\" : 4.5,\n",
    "        \"company\" : \"Tresvista\"\n",
    "    }\n",
    "}\n",
    "\n",
    "for k, v in dict2.items():\n",
    "    print(\"key: \", k, \" value: \", v)\n",
    "    \n",
    "    \n"
   ]
  },
  {
   "cell_type": "raw",
   "metadata": {},
   "source": [
    "Q64. What is the use of pop() function?\n",
    "\n",
    "Ans-\n",
    "\n",
    "pop function removes the elements from data structures based on index or keys\n",
    "\n",
    "Ex; In following code we removed value for \"email\" key from dict2 as well as value at index 4 of a list lst3\n",
    "\n",
    "List& Dictionary-\n",
    "for a list by default the last value in the list is removed if no index is specified, but for dictionary a key has to be specified\n",
    "\n",
    "Set-\n",
    "When pop operation is done on set, it can only remove last value of set, it does not take any index as arguments.\n",
    "\n",
    "Tuple-\n",
    "pop operation on tuple is not supported\n",
    "\n"
   ]
  },
  {
   "cell_type": "code",
   "execution_count": 141,
   "metadata": {},
   "outputs": [
    {
     "name": "stdout",
     "output_type": "stream",
     "text": [
      "key:  name  value:  kalpesh\n",
      "key:  age  value:  25\n",
      "key:  skills  value:  ['Python', 'scala', 'bigdata']\n",
      "key:  number  value:  12334567890\n",
      "[1, 2, 3, 4, 6]\n",
      "{2, 3, 4, 5, 6, 7}\n"
     ]
    },
    {
     "ename": "AttributeError",
     "evalue": "'tuple' object has no attribute 'pop'",
     "output_type": "error",
     "traceback": [
      "\u001b[1;31m---------------------------------------------------------------------------\u001b[0m",
      "\u001b[1;31mAttributeError\u001b[0m                            Traceback (most recent call last)",
      "\u001b[1;32m<ipython-input-141-ad8b0b1edfd7>\u001b[0m in \u001b[0;36m<module>\u001b[1;34m\u001b[0m\n\u001b[0;32m     29\u001b[0m \u001b[1;31m# pop from tuple\u001b[0m\u001b[1;33m\u001b[0m\u001b[1;33m\u001b[0m\u001b[1;33m\u001b[0m\u001b[0m\n\u001b[0;32m     30\u001b[0m \u001b[0mt3\u001b[0m \u001b[1;33m=\u001b[0m \u001b[1;33m(\u001b[0m\u001b[1;36m3\u001b[0m\u001b[1;33m,\u001b[0m\u001b[1;36m4\u001b[0m\u001b[1;33m,\u001b[0m\u001b[1;36m5\u001b[0m\u001b[1;33m,\u001b[0m\u001b[1;36m6\u001b[0m\u001b[1;33m,\u001b[0m\u001b[1;36m7\u001b[0m\u001b[1;33m,\u001b[0m\u001b[1;36m8\u001b[0m\u001b[1;33m,\u001b[0m\u001b[1;36m9\u001b[0m\u001b[1;33m)\u001b[0m\u001b[1;33m\u001b[0m\u001b[1;33m\u001b[0m\u001b[0m\n\u001b[1;32m---> 31\u001b[1;33m \u001b[0mt3\u001b[0m\u001b[1;33m.\u001b[0m\u001b[0mpop\u001b[0m\u001b[1;33m(\u001b[0m\u001b[1;33m)\u001b[0m\u001b[1;33m\u001b[0m\u001b[1;33m\u001b[0m\u001b[0m\n\u001b[0m",
      "\u001b[1;31mAttributeError\u001b[0m: 'tuple' object has no attribute 'pop'"
     ]
    }
   ],
   "source": [
    "# POP from dictionary\n",
    "\n",
    "dict2 = {\n",
    "    \"name\" : \"kalpesh\",\n",
    "    \"age\" : 25,\n",
    "    \"skills\" : [\"Python\", \"scala\", \"bigdata\"],\n",
    "    \"number\" : 12334567890,\n",
    "    \"email\" : \"abc@mail.com\",\n",
    "}\n",
    "\n",
    "dict2.pop(\"email\")\n",
    "\n",
    "for k, v in dict2.items():\n",
    "    print(\"key: \", k, \" value: \", v)\n",
    "    \n",
    "    \n",
    "# pop from list \n",
    "lst3 = [1,2,3,4,5,6]\n",
    "lst3.pop(4)\n",
    "\n",
    "print(lst3)\n",
    "\n",
    "# pop from set\n",
    "set3 = {1,2,3,4,5,6,7}\n",
    "set3.pop()\n",
    "\n",
    "print(set3)\n",
    "\n",
    "# pop from tuple \n",
    "t3 = (3,4,5,6,7,8,9)\n",
    "t3.pop()"
   ]
  },
  {
   "cell_type": "raw",
   "metadata": {},
   "source": [
    "Q65. What is the use of popitems() function?\n",
    "\n",
    "Ans-\n",
    "\n",
    "Python dictionary popitem() method removes the last inserted key-value pair from the dictionary and returns it as a tuple."
   ]
  },
  {
   "cell_type": "code",
   "execution_count": 143,
   "metadata": {},
   "outputs": [
    {
     "name": "stdout",
     "output_type": "stream",
     "text": [
      "(3, '011')\n"
     ]
    }
   ],
   "source": [
    "d = {1: '001', 2: '010', 3: '011'}\n",
    "\n",
    "poped_item = d.popitem()\n",
    "print(poped_item)"
   ]
  },
  {
   "cell_type": "raw",
   "metadata": {},
   "source": [
    "Q66. What is the use of keys() function?\n",
    "\n",
    "Ans-\n",
    "\n",
    "keys() function returns the list of keys in a wrapped format.\n",
    "\n",
    "Ex;\n",
    "d = {1: '001', 2: '010', 3: '011'}\n",
    "print(d.keys())\n",
    "\n",
    "To get this list of keys in proper format, the result has to be typecasted to list\n",
    "print(list(d.keys()))"
   ]
  },
  {
   "cell_type": "code",
   "execution_count": 146,
   "metadata": {},
   "outputs": [
    {
     "name": "stdout",
     "output_type": "stream",
     "text": [
      "dict_keys([1, 2, 3])\n",
      "[1, 2, 3]\n"
     ]
    }
   ],
   "source": [
    "d = {1: '001', 2: '010', 3: '011'}\n",
    "\n",
    "print(d.keys())\n",
    "print(list(d.keys()))"
   ]
  },
  {
   "cell_type": "raw",
   "metadata": {},
   "source": [
    "Q67. What is the use of values() function?\n",
    "\n",
    "Ans- \n",
    "\n",
    "values() function returns the list of values in a wrapped format.\n",
    "\n",
    "Ex;\n",
    "d = {1: '001', 2: '010', 3: '011'}\n",
    "print(d.values())\n",
    "\n",
    "To get this list of values in proper format, the result has to be typecasted to list\n",
    "print(list(d.values()))"
   ]
  },
  {
   "cell_type": "code",
   "execution_count": 147,
   "metadata": {},
   "outputs": [
    {
     "name": "stdout",
     "output_type": "stream",
     "text": [
      "dict_values(['001', '010', '011'])\n",
      "['001', '010', '011']\n"
     ]
    }
   ],
   "source": [
    "d = {1: '001', 2: '010', 3: '011'}\n",
    "print(d.values())\n",
    "\n",
    "print(list(d.values()))"
   ]
  },
  {
   "cell_type": "raw",
   "metadata": {},
   "source": [
    "Q68. What are loops in Python?\n",
    "\n",
    "Ans-\n",
    "\n",
    "loops are the statements that allows us to execute certain statements multiple times based on certain conditions"
   ]
  },
  {
   "cell_type": "raw",
   "metadata": {},
   "source": [
    "Q69. How many type of loop are there in Python?\n",
    "\n",
    "Ans-\n",
    "\n",
    "There are 2 types of loops in python\n",
    "\n",
    "While loop\n",
    "- In python, a while loop is used to execute a block of statements repeatedly until a given condition is satisfied. \n",
    "\n",
    "For loop\n",
    "- For loops are used for sequential traversal. For example: traversing a list or string or array etc."
   ]
  },
  {
   "cell_type": "raw",
   "metadata": {},
   "source": [
    "Q70. What is the difference between for and while loops?\n",
    "\n",
    "Ans- \n",
    "\n",
    "for loop is suitable when the number of iterations are fixed also counter variable get incremented automatically without any increment statement in the loop body.\n",
    "\n",
    "while loop is suitable when only the exit condition is known also counter variable has to be incremented by an increment statement in the loop body.\n"
   ]
  },
  {
   "cell_type": "raw",
   "metadata": {},
   "source": [
    "Q71. What is the use of continue statement?\n",
    "\n",
    "Ans-\n",
    "\n",
    "Continue Statement skips the execution of the program block from after the continue statement and forces the control to start the next iteration."
   ]
  },
  {
   "cell_type": "raw",
   "metadata": {},
   "source": [
    "Q72. What is the use of break statement?\n",
    "\n",
    "Ans-\n",
    "\n",
    "break is used to terminate the execution of the loop. "
   ]
  },
  {
   "cell_type": "raw",
   "metadata": {},
   "source": [
    "Q73. What is the use of pass statement?\n",
    "\n",
    "Ans-\n",
    "\n",
    "The pass statement is a null statement and it does nothing. But the difference between pass and comment is that comment is ignored by the interpreter whereas pass is not ignored. \n",
    "\n",
    "Ex;\n",
    "\n",
    "a = 10\n",
    "b = 20\n",
    "  \n",
    "if(a<b):\n",
    "  pass\n",
    "else:\n",
    "  print(\"b<a\")"
   ]
  },
  {
   "cell_type": "raw",
   "metadata": {},
   "source": [
    "Q74. What is the use of range() function?\n",
    "\n",
    "Ans-\n",
    "\n",
    "Range returns a list of mentioned value\n",
    "\n",
    "Ex;\n",
    "\n",
    "range(1, 11, 2)\n",
    "here, range returns all the values from 1 to 10 with a difference of 2\n",
    "\n",
    "1 => the starting value which is included\n",
    "11 => the endingt value which is excluded\n",
    "2 => difference which is by default 1 and is an optional argument"
   ]
  },
  {
   "cell_type": "code",
   "execution_count": 152,
   "metadata": {},
   "outputs": [
    {
     "name": "stdout",
     "output_type": "stream",
     "text": [
      "1\n",
      "3\n",
      "5\n",
      "7\n",
      "9\n"
     ]
    }
   ],
   "source": [
    "for x in range(1, 11, 2):\n",
    "    print(x)"
   ]
  },
  {
   "cell_type": "raw",
   "metadata": {},
   "source": [
    "Q75. How can you loop over a dictionary?\n",
    "\n",
    "Ans-\n",
    "\n",
    "We can loop over a dictionary using keys() and items() function"
   ]
  },
  {
   "cell_type": "code",
   "execution_count": 154,
   "metadata": {},
   "outputs": [
    {
     "name": "stdout",
     "output_type": "stream",
     "text": [
      "Using keys() function\n",
      "Key:  name  value:  kalpesh\n",
      "Key:  age  value:  25\n",
      "Key:  skills  value:  ['Python', 'scala', 'bigdata']\n",
      "Key:  number  value:  12334567890\n",
      "Key:  email  value:  abc@mail.com\n",
      "Key:  experience  value:  {'internship': 'infocepts', 'YOE': 4.5, 'company': 'Tresvista'}\n",
      "\n",
      "Using items() function\n",
      "key:  name  value:  kalpesh\n",
      "key:  age  value:  25\n",
      "key:  skills  value:  ['Python', 'scala', 'bigdata']\n",
      "key:  number  value:  12334567890\n",
      "key:  email  value:  abc@mail.com\n",
      "key:  experience  value:  {'internship': 'infocepts', 'YOE': 4.5, 'company': 'Tresvista'}\n"
     ]
    }
   ],
   "source": [
    "dict2 = {\n",
    "    \"name\" : \"kalpesh\",\n",
    "    \"age\" : 25,\n",
    "    \"skills\" : [\"Python\", \"scala\", \"bigdata\"],\n",
    "    \"number\" : 12334567890,\n",
    "    \"email\" : \"abc@mail.com\",\n",
    "    \"experience\" : {\n",
    "        \"internship\" : \"infocepts\",\n",
    "        \"YOE\" : 4.5,\n",
    "        \"company\" : \"Tresvista\"\n",
    "    }\n",
    "}\n",
    "\n",
    "# Using keys() function\n",
    "print(\"Using keys() function\")\n",
    "for key in list(dict2.keys()):\n",
    "    print(\"Key: \", key, \" value: \", dict2[key])\n",
    "\n",
    "\n",
    "# Using items() function\n",
    "print(\"\\nUsing items() function\")\n",
    "for k, v in dict2.items():\n",
    "    print(\"key: \", k, \" value: \", v)"
   ]
  },
  {
   "cell_type": "markdown",
   "metadata": {},
   "source": [
    "# Coding problems"
   ]
  },
  {
   "cell_type": "raw",
   "metadata": {},
   "source": [
    "Q76. Write a Python program to find the factorial of a given number."
   ]
  },
  {
   "cell_type": "code",
   "execution_count": 157,
   "metadata": {},
   "outputs": [
    {
     "name": "stdout",
     "output_type": "stream",
     "text": [
      "enter a number: 4\n",
      "factorial of  4  is:  24\n"
     ]
    }
   ],
   "source": [
    "n = int(input(\"enter a number: \"))\n",
    "\n",
    "factorial = 1\n",
    "\n",
    "for i in range(n, 0, -1):\n",
    "    factorial = factorial * i\n",
    "\n",
    "print(\"factorial of \", n, \" is: \", factorial)"
   ]
  },
  {
   "cell_type": "raw",
   "metadata": {},
   "source": [
    "Q77. Write a Python program to calculate the simple interest. Formula to calculate simple interest is SI = (P*R*T)/100"
   ]
  },
  {
   "cell_type": "code",
   "execution_count": 159,
   "metadata": {},
   "outputs": [
    {
     "name": "stdout",
     "output_type": "stream",
     "text": [
      "Enter the value for p :100000\n",
      "Enter the value for r :8\n",
      "Enter the value for t :5\n",
      "simple interest =  40000.0\n"
     ]
    }
   ],
   "source": [
    "# Get the input values\n",
    "\n",
    "p = int(input(\"Enter the value for p :\"))\n",
    "r = int(input(\"Enter the value for r :\"))\n",
    "t = int(input(\"Enter the value for t :\"))\n",
    "\n",
    "si = (p*r*t)/100\n",
    "print(\"simple interest = \", si)"
   ]
  },
  {
   "cell_type": "raw",
   "metadata": {},
   "source": [
    "Q78. Write a Python program to calculate the compound interest. Formula of compound interest is A = P(1+ R/100)^t."
   ]
  },
  {
   "cell_type": "code",
   "execution_count": 164,
   "metadata": {},
   "outputs": [
    {
     "name": "stdout",
     "output_type": "stream",
     "text": [
      "Enter the value for p :10000\n",
      "Enter the value for r :8\n",
      "Enter the value for t :5\n",
      "compound interest =  14693.280768000006\n"
     ]
    }
   ],
   "source": [
    "p = int(input(\"Enter the value for p :\"))\n",
    "r = int(input(\"Enter the value for r :\"))\n",
    "t = int(input(\"Enter the value for t :\"))\n",
    "\n",
    "ci = p * ((1+ (r/100)) **t)\n",
    "\n",
    "print(\"compound interest = \", ci)"
   ]
  },
  {
   "cell_type": "raw",
   "metadata": {},
   "source": [
    "Q79. Write a Python program to check if a number is prime or not."
   ]
  },
  {
   "cell_type": "code",
   "execution_count": 170,
   "metadata": {},
   "outputs": [
    {
     "name": "stdout",
     "output_type": "stream",
     "text": [
      "enter a number 17\n",
      "17  is a prime number\n"
     ]
    }
   ],
   "source": [
    "n = int(input(\"enter a number \"))\n",
    "\n",
    "flag = 0\n",
    "\n",
    "for i in range (2, n):\n",
    "    if n % i == 0:\n",
    "        flag = 1\n",
    "        \n",
    "if flag == 0:\n",
    "    print(n, \" is a prime number\")\n",
    "else:\n",
    "    print(n, \" is NOT a prime number\")"
   ]
  },
  {
   "cell_type": "raw",
   "metadata": {},
   "source": [
    "Q80. Write a Python program to check Armstrong Number."
   ]
  },
  {
   "cell_type": "code",
   "execution_count": 176,
   "metadata": {},
   "outputs": [
    {
     "name": "stdout",
     "output_type": "stream",
     "text": [
      "enter a number 1634\n",
      "[4, 3, 6, 1]\n",
      "1634  is a Armstrong number\n"
     ]
    }
   ],
   "source": [
    "# Get the input number\n",
    "n = int(input(\"enter a number \"))\n",
    "val = n\n",
    "\n",
    "# get the individual digits from the list\n",
    "digit_list = []\n",
    "\n",
    "while n != 0:\n",
    "    \n",
    "    digit_list.append(n % 10)\n",
    "    n = n // 10\n",
    "\n",
    "print(digit_list)\n",
    "\n",
    "# Get the sum of i ** len(digit_list)\n",
    "sum = 0\n",
    "for i in digit_list:\n",
    "    sum += i**len(digit_list)\n",
    "\n",
    "# checking the sum\n",
    "if sum == val:\n",
    "    print(val, \" is a Armstrong number\")\n",
    "else:\n",
    "    print(val, \" is NOT a Armstrong number\")"
   ]
  },
  {
   "cell_type": "raw",
   "metadata": {},
   "source": [
    "Q81. Write a Python program to find the n-th Fibonacci Number."
   ]
  },
  {
   "cell_type": "code",
   "execution_count": 178,
   "metadata": {},
   "outputs": [
    {
     "name": "stdout",
     "output_type": "stream",
     "text": [
      "enter a number 10\n",
      "[0, 1, 1, 2, 3, 5, 8, 13, 21, 34]\n"
     ]
    }
   ],
   "source": [
    "n = int(input(\"enter a number \"))\n",
    "\n",
    "fib_list = [0, 1]\n",
    "\n",
    "for i in range(2, n):\n",
    "    fib_list.append(fib_list[len(fib_list) - 1] + fib_list[len(fib_list) - 2])\n",
    "\n",
    "print(fib_list)"
   ]
  },
  {
   "cell_type": "raw",
   "metadata": {},
   "source": [
    "Q82. Write a Python program to interchange the first and last element in a list.\n"
   ]
  },
  {
   "cell_type": "code",
   "execution_count": 180,
   "metadata": {},
   "outputs": [
    {
     "name": "stdout",
     "output_type": "stream",
     "text": [
      "List before interchange :  [1, 2, 3, 4, 5, 6]\n",
      "List after interchange :  [6, 2, 3, 4, 5, 1]\n"
     ]
    }
   ],
   "source": [
    "my_list = [1, 2, 3, 4, 5, 6]\n",
    "\n",
    "print(\"List before interchange : \", my_list)\n",
    "my_list[0], my_list[-1] = my_list[-1], my_list[0]\n",
    "\n",
    "print(\"List after interchange : \", my_list)"
   ]
  },
  {
   "cell_type": "raw",
   "metadata": {},
   "source": [
    "Q83. Write a Python program to swap two elements in a list."
   ]
  },
  {
   "cell_type": "code",
   "execution_count": 190,
   "metadata": {},
   "outputs": [
    {
     "name": "stdout",
     "output_type": "stream",
     "text": [
      "Enter the list: 1 2 3 4 5 6 7 8 9\n",
      "Enter the indexes to be swapped starting with 0: 2 3\n",
      "List before interchange :  [1, 2, 3, 4, 5, 6, 7, 8, 9]\n",
      "List after interchange :  [1, 2, 4, 3, 5, 6, 7, 8, 9]\n"
     ]
    }
   ],
   "source": [
    "my_list = list(map(int, input(\"Enter the list: \").split()))\n",
    "\n",
    "x, y = input(\"Enter the indexes to be swapped starting with 0: \").split()\n",
    "\n",
    "x, y = int(x), int(y)\n",
    "\n",
    "print(\"List before interchange : \", my_list)\n",
    "my_list[x], my_list[y] = my_list[y], my_list[x]\n",
    "\n",
    "print(\"List after interchange : \", my_list)"
   ]
  },
  {
   "cell_type": "raw",
   "metadata": {},
   "source": [
    "Q84. Write a Python program to find N largest element from a list."
   ]
  },
  {
   "cell_type": "code",
   "execution_count": 194,
   "metadata": {},
   "outputs": [
    {
     "name": "stdout",
     "output_type": "stream",
     "text": [
      "Enter the list: 9 8 7 6 5 4 3 2 1\n",
      "Enter the nth number: 3\n",
      "3 th largest number is:  7\n"
     ]
    }
   ],
   "source": [
    "my_list = list(map(int, input(\"Enter the list: \").split()))\n",
    "\n",
    "n = int(input(\"Enter the nth number: \"))\n",
    "\n",
    "sorted_list = list(set(my_list))\n",
    "\n",
    "print(n, \"th largest number is: \", sorted_list[-n])"
   ]
  },
  {
   "cell_type": "raw",
   "metadata": {},
   "source": [
    "Q85. Write a Python program to find cumulative sum of a list."
   ]
  },
  {
   "cell_type": "code",
   "execution_count": 202,
   "metadata": {},
   "outputs": [
    {
     "name": "stdout",
     "output_type": "stream",
     "text": [
      "Enter the list: 9 8 7 6 5 4 3 2 1\n",
      "[9, 8, 7, 6, 5, 4, 3, 2, 1]\n",
      "Cummulative Sum for the list [9, 17, 24, 30, 35, 39, 42, 44, 45]\n"
     ]
    }
   ],
   "source": [
    "my_list = list(map(int, input(\"Enter the list: \").split()))\n",
    "\n",
    "cum_sum = [my_list[0]]\n",
    "\n",
    "for i in range(1, len(my_list)):\n",
    "    \n",
    "    cum_sum.append(cum_sum[i-1] + my_list[i])\n",
    "    \n",
    "print(my_list)\n",
    "print(\"Cummulative Sum for the list\", cum_sum)\n"
   ]
  },
  {
   "cell_type": "raw",
   "metadata": {},
   "source": [
    "Q86. Write a Python program to check if a string is palindrome or not."
   ]
  },
  {
   "cell_type": "code",
   "execution_count": 209,
   "metadata": {},
   "outputs": [
    {
     "name": "stdout",
     "output_type": "stream",
     "text": [
      "Enter a string: awawa\n",
      "awawa is a palindrome\n"
     ]
    }
   ],
   "source": [
    "input_string = input(\"Enter a string: \")\n",
    "reverse_string = input_string[-1: : -1]\n",
    "\n",
    "if input_string == reverse_string:\n",
    "    print(input_string, \"is a palindrome\")\n",
    "else:\n",
    "    print(input_string, \"is NOT a palindrome\")"
   ]
  },
  {
   "cell_type": "raw",
   "metadata": {},
   "source": [
    "Q87. Write a Python program to remove i'th element from a string."
   ]
  },
  {
   "cell_type": "code",
   "execution_count": 212,
   "metadata": {},
   "outputs": [
    {
     "name": "stdout",
     "output_type": "stream",
     "text": [
      "Enter a string: kalpesh\n",
      "enter the value for i: 2\n",
      "klpesh\n"
     ]
    }
   ],
   "source": [
    "input_string = input(\"Enter a string: \")\n",
    "i = int(input(\"enter the value for i: \")) - 1\n",
    "\n",
    "\n",
    "#way1\n",
    "rem_str = input_string[:i] + input_string[i+1 : ]\n",
    "print(rem_str)"
   ]
  },
  {
   "cell_type": "raw",
   "metadata": {},
   "source": [
    "Q88. Write a Python program to check if a substring is present in a given string."
   ]
  },
  {
   "cell_type": "code",
   "execution_count": 213,
   "metadata": {},
   "outputs": [
    {
     "name": "stdout",
     "output_type": "stream",
     "text": [
      "Enter a string: kalpesh\n",
      "Enter a sub-string: alpe\n",
      "alpe  is present in  kalpesh\n"
     ]
    }
   ],
   "source": [
    "input_string = input(\"Enter a string: \")\n",
    "sub_string = input(\"Enter a sub-string: \")\n",
    "\n",
    "if sub_string in input_string:\n",
    "    print(sub_string, \" is present in \", input_string)\n",
    "else:\n",
    "    print(sub_string, \" is NOT present in \", input_string)"
   ]
  },
  {
   "cell_type": "raw",
   "metadata": {},
   "source": [
    "Q89. Write a Python program to find words which are greater than given length k."
   ]
  },
  {
   "cell_type": "code",
   "execution_count": 215,
   "metadata": {},
   "outputs": [
    {
     "name": "stdout",
     "output_type": "stream",
     "text": [
      "Enter a string: i am doing pretty well\n",
      "enter the value for i: 3\n",
      "3  words are greater than length  3\n"
     ]
    }
   ],
   "source": [
    "input_string = input(\"Enter a string: \").split()\n",
    "k = int(input(\"enter the value for i: \"))\n",
    "\n",
    "counter = 0\n",
    "for wrd in input_string:\n",
    "    if len(wrd) > k:\n",
    "        counter += 1\n",
    "\n",
    "print(counter, \" words are greater than length \", k)"
   ]
  },
  {
   "cell_type": "raw",
   "metadata": {},
   "source": [
    "Q90. Write a Python program to extract unquire dictionary values."
   ]
  },
  {
   "cell_type": "code",
   "execution_count": 216,
   "metadata": {},
   "outputs": [
    {
     "name": "stdout",
     "output_type": "stream",
     "text": [
      "Unique dictionary values are:  {25, 'kalpesh', 'abc@mail.com', 'xyz,pqr'}\n"
     ]
    }
   ],
   "source": [
    "dict2 = {\n",
    "    \"name\" : \"kalpesh\",\n",
    "    \"age\" : 25,\n",
    "    \"temp_address\" : \"xyz,pqr\",\n",
    "    \"permanent_address\" : \"xyz,pqr\",\n",
    "    \"email\" : \"abc@mail.com\",\n",
    "}\n",
    "\n",
    "unique_val = set(dict2.values())\n",
    "\n",
    "print(\"Unique dictionary values are: \", unique_val)"
   ]
  },
  {
   "cell_type": "raw",
   "metadata": {},
   "source": [
    "Q91. Write a Python program to merge two dictionary."
   ]
  },
  {
   "cell_type": "code",
   "execution_count": 223,
   "metadata": {},
   "outputs": [
    {
     "name": "stdout",
     "output_type": "stream",
     "text": [
      "{'name': 'kalpesh', 'age': 25, 'temp_address': 'xyz,pqr', 'permanent_address': 'xyz,pqr', 'email': 'abc@mail.com', 'skills': ['Python', 'scala', 'bigdata'], 'number': 12334567890, 'experience': {'internship': 'infocepts', 'YOE': 4.5, 'company': 'Tresvista'}}\n"
     ]
    }
   ],
   "source": [
    "dict2 = {\n",
    "    \"name\" : \"kalpesh\",\n",
    "    \"age\" : 25,\n",
    "    \"temp_address\" : \"xyz,pqr\",\n",
    "    \"permanent_address\" : \"xyz,pqr\",\n",
    "    \"email\" : \"abc@mail.com\",\n",
    "}\n",
    "\n",
    "dict3 = {\n",
    "    \"name\" : \"kalpesh\",\n",
    "    \"age\" : 25,\n",
    "    \"skills\" : [\"Python\", \"scala\", \"bigdata\"],\n",
    "    \"number\" : 12334567890,\n",
    "    \"email\" : \"abc@mail.com\",\n",
    "    \"experience\" : {\n",
    "        \"internship\" : \"infocepts\",\n",
    "        \"YOE\" : 4.5,\n",
    "        \"company\" : \"Tresvista\"\n",
    "    }\n",
    "}\n",
    "\n",
    "res = {**dict2, **dict3}\n",
    "\n",
    "print(res)"
   ]
  },
  {
   "cell_type": "raw",
   "metadata": {},
   "source": [
    "Q92. Write a Python program to convert a list of tuples into dictionary.\n",
    "```\n",
    "Input : [('Sachin', 10), ('MSD', 7), ('Kohli', 18), ('Rohit', 45)]\n",
    "Output : {'Sachin': 10, 'MSD': 7, 'Kohli': 18, 'Rohit': 45}\n",
    "```"
   ]
  },
  {
   "cell_type": "code",
   "execution_count": 231,
   "metadata": {},
   "outputs": [
    {
     "name": "stdout",
     "output_type": "stream",
     "text": [
      "{'Sachin': 10, 'MSD': 7, 'Kohli': 18, 'Rohit': 45}\n"
     ]
    }
   ],
   "source": [
    "input_list = [('Sachin', 10), ('MSD', 7), ('Kohli', 18), ('Rohit', 45)]\n",
    "    \n",
    "output_val = {}\n",
    "\n",
    "for i in input_list:\n",
    "       \n",
    "    output_val[i[0]] = i[1]\n",
    "    \n",
    "print(output_val)"
   ]
  },
  {
   "cell_type": "raw",
   "metadata": {},
   "source": [
    "Q93. Write a Python program to create a list of tuples from given list having number and its cube in each tuple.\n",
    "```\n",
    "Input: list = [9, 5, 6]\n",
    "Output: [(9, 729), (5, 125), (6, 216)]\n",
    "```\n"
   ]
  },
  {
   "cell_type": "code",
   "execution_count": 233,
   "metadata": {},
   "outputs": [
    {
     "name": "stdout",
     "output_type": "stream",
     "text": [
      "[(9, 729), (5, 125), (6, 216)]\n"
     ]
    }
   ],
   "source": [
    "input_val = [9, 5, 6]\n",
    "\n",
    "output = list()\n",
    "\n",
    "for i in input_val:\n",
    "    output.append((i, i**3))\n",
    "    \n",
    "print(output)"
   ]
  },
  {
   "cell_type": "raw",
   "metadata": {},
   "source": [
    "Q94. Write a Python program to get all combinations of 2 tuples.\n",
    "```\n",
    "Input : test_tuple1 = (7, 2), test_tuple2 = (7, 8)\n",
    "Output : [(7, 7), (7, 8), (2, 7), (2, 8), (7, 7), (7, 2), (8, 7), (8, 2)]\n",
    "```"
   ]
  },
  {
   "cell_type": "code",
   "execution_count": 238,
   "metadata": {},
   "outputs": [
    {
     "name": "stdout",
     "output_type": "stream",
     "text": [
      "[(7, 7), (7, 8), (2, 7), (2, 8), (7, 7), (7, 2), (8, 7), (8, 2)]\n"
     ]
    }
   ],
   "source": [
    "test_tuple1 = (7, 2)\n",
    "test_tuple2 = (7, 8)\n",
    "\n",
    "output = []\n",
    "for i in range(0, len(test_tuple1)):\n",
    "    for j in range(0, len(test_tuple2)):\n",
    "        output.append((test_tuple1[i], test_tuple2[j]))\n",
    "\n",
    "for i in range(0, len(test_tuple2)):\n",
    "    for j in range(0, len(test_tuple1)):\n",
    "        output.append((test_tuple2[i], test_tuple1[j]))\n",
    "        \n",
    "print(output)"
   ]
  },
  {
   "cell_type": "raw",
   "metadata": {},
   "source": [
    "Q95. Write a Python program to sort a list of tuples by second item.\n",
    "```\n",
    "Input : [('for', 24), ('Geeks', 8), ('Geeks', 30)] \n",
    "Output : [('Geeks', 8), ('for', 24), ('Geeks', 30)]\n",
    "```"
   ]
  },
  {
   "cell_type": "code",
   "execution_count": 249,
   "metadata": {},
   "outputs": [
    {
     "name": "stdout",
     "output_type": "stream",
     "text": [
      "[('Geeks', 8), ('for', 24), ('Geeks', 30)]\n"
     ]
    }
   ],
   "source": [
    "input_val = [('for', 24), ('Geeks', 8), ('Geeks', 30)] \n",
    "\n",
    "length = len(input_val)\n",
    "\n",
    "\n",
    "for i in range(0, length):\n",
    "     for j in range(0, length-i-j):\n",
    "        if(input_val[j][1] > input_val[j+1][1]):\n",
    "            input_val[j], input_val[j+1] = input_val[j+1], input_val[j]\n",
    "\n",
    "print(input_val)\n"
   ]
  },
  {
   "cell_type": "raw",
   "metadata": {},
   "source": [
    "Q96. Write a python program to print below pattern.\n",
    "```\n",
    "* \n",
    "* * \n",
    "* * * \n",
    "* * * * \n",
    "* * * * * \n",
    "```"
   ]
  },
  {
   "cell_type": "code",
   "execution_count": 252,
   "metadata": {},
   "outputs": [
    {
     "name": "stdout",
     "output_type": "stream",
     "text": [
      "* \n",
      "* * \n",
      "* * * \n",
      "* * * * \n",
      "* * * * * \n"
     ]
    }
   ],
   "source": [
    "n = 5\n",
    "\n",
    "for i in range (1, n+1):\n",
    "    for j in range (1, i+1):\n",
    "    \n",
    "        print(\"*\", end =\" \")\n",
    "    print(\"\")"
   ]
  },
  {
   "cell_type": "raw",
   "metadata": {},
   "source": [
    "Q97. Write a python program to print below pattern.\n",
    "```\n",
    "    *\n",
    "   **\n",
    "  ***\n",
    " ****\n",
    "*****"
   ]
  },
  {
   "cell_type": "code",
   "execution_count": 262,
   "metadata": {},
   "outputs": [
    {
     "name": "stdout",
     "output_type": "stream",
     "text": [
      "      \n",
      "     *\n",
      "    **\n",
      "   ***\n",
      "  ****\n",
      " *****\n"
     ]
    }
   ],
   "source": [
    "n = 6\n",
    "\n",
    "for i in range (n, 0, -1):\n",
    "    for j in range (1, i+1):\n",
    "    \n",
    "        print(\" \", end =\"\")\n",
    "    \n",
    "    for k in range (i+1, n+1):\n",
    "    \n",
    "        print(\"*\", end =\"\")\n",
    "    print(\"\")"
   ]
  },
  {
   "cell_type": "raw",
   "metadata": {},
   "source": [
    "Q98. Write a python program to print below pattern.\n",
    "```\n",
    "    * \n",
    "   * * \n",
    "  * * * \n",
    " * * * * \n",
    "* * * * * "
   ]
  },
  {
   "cell_type": "code",
   "execution_count": 279,
   "metadata": {},
   "outputs": [
    {
     "name": "stdout",
     "output_type": "stream",
     "text": [
      "      \n",
      "     * \n",
      "    * * \n",
      "   * * * \n",
      "  * * * * \n",
      " * * * * * \n"
     ]
    }
   ],
   "source": [
    "n = 6\n",
    "\n",
    "for i in range (n, 0, -1):\n",
    "    for j in range (1, i+1):\n",
    "    \n",
    "        print(\" \", end =\"\")\n",
    "    \n",
    "    for k in range (i+1, n+1):\n",
    "    \n",
    "        print(\"* \", end =\"\")\n",
    "    print(\"\")"
   ]
  },
  {
   "cell_type": "raw",
   "metadata": {},
   "source": [
    "Q99. Write a python program to print below pattern.\n",
    "```\n",
    "1 \n",
    "1 2 \n",
    "1 2 3 \n",
    "1 2 3 4 \n",
    "1 2 3 4 5\n",
    "```"
   ]
  },
  {
   "cell_type": "code",
   "execution_count": 282,
   "metadata": {},
   "outputs": [
    {
     "name": "stdout",
     "output_type": "stream",
     "text": [
      "1 \n",
      "1 2 \n",
      "1 2 3 \n",
      "1 2 3 4 \n",
      "1 2 3 4 5 \n"
     ]
    }
   ],
   "source": [
    "n = 5\n",
    "\n",
    "for i in range (1, n+1):\n",
    "    for j in range (1, i+1):\n",
    "    \n",
    "        print(j, end =\" \")\n",
    "    print(\"\")"
   ]
  },
  {
   "cell_type": "raw",
   "metadata": {},
   "source": [
    "Q100. Write a python program to print below pattern.\n",
    "```\n",
    "A \n",
    "B B \n",
    "C C C \n",
    "D D D D \n",
    "E E E E E \n",
    "```"
   ]
  },
  {
   "cell_type": "code",
   "execution_count": 291,
   "metadata": {},
   "outputs": [
    {
     "name": "stdout",
     "output_type": "stream",
     "text": [
      "\n",
      "A \n",
      "B B \n",
      "C C C \n",
      "D D D D \n",
      "E E E E E \n"
     ]
    }
   ],
   "source": [
    "n = 5\n",
    "letters = \" ABCDEFGHIJKLMNOPQRSTUVWXYZ\"\n",
    "\n",
    "for i in range (0, n+1):\n",
    "    for j in range (0, i):\n",
    "    \n",
    "        print(letters[i], end =\" \")\n",
    "    print(\"\")"
   ]
  },
  {
   "cell_type": "code",
   "execution_count": null,
   "metadata": {},
   "outputs": [],
   "source": []
  }
 ],
 "metadata": {
  "kernelspec": {
   "display_name": "Python 3",
   "language": "python",
   "name": "python3"
  },
  "language_info": {
   "codemirror_mode": {
    "name": "ipython",
    "version": 3
   },
   "file_extension": ".py",
   "mimetype": "text/x-python",
   "name": "python",
   "nbconvert_exporter": "python",
   "pygments_lexer": "ipython3",
   "version": "3.8.5"
  }
 },
 "nbformat": 4,
 "nbformat_minor": 4
}
